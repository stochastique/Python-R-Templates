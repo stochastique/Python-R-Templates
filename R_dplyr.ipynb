{
 "cells": [
  {
   "cell_type": "code",
   "execution_count": 75,
   "metadata": {},
   "outputs": [
    {
     "data": {
      "text/html": [
       "<table>\n",
       "<thead><tr><th scope=col>Sepal.Length</th><th scope=col>Sepal.Width</th><th scope=col>Petal.Length</th><th scope=col>Petal.Width</th><th scope=col>Species</th></tr></thead>\n",
       "<tbody>\n",
       "\t<tr><td>5.1   </td><td>3.5   </td><td>1.4   </td><td>0.2   </td><td>setosa</td></tr>\n",
       "\t<tr><td>4.9   </td><td>3.0   </td><td>1.4   </td><td>0.2   </td><td>setosa</td></tr>\n",
       "\t<tr><td>4.7   </td><td>3.2   </td><td>1.3   </td><td>0.2   </td><td>setosa</td></tr>\n",
       "\t<tr><td>4.6   </td><td>3.1   </td><td>1.5   </td><td>0.2   </td><td>setosa</td></tr>\n",
       "\t<tr><td>5.0   </td><td>3.6   </td><td>1.4   </td><td>0.2   </td><td>setosa</td></tr>\n",
       "\t<tr><td>5.4   </td><td>3.9   </td><td>1.7   </td><td>0.4   </td><td>setosa</td></tr>\n",
       "</tbody>\n",
       "</table>\n"
      ],
      "text/latex": [
       "\\begin{tabular}{r|lllll}\n",
       " Sepal.Length & Sepal.Width & Petal.Length & Petal.Width & Species\\\\\n",
       "\\hline\n",
       "\t 5.1    & 3.5    & 1.4    & 0.2    & setosa\\\\\n",
       "\t 4.9    & 3.0    & 1.4    & 0.2    & setosa\\\\\n",
       "\t 4.7    & 3.2    & 1.3    & 0.2    & setosa\\\\\n",
       "\t 4.6    & 3.1    & 1.5    & 0.2    & setosa\\\\\n",
       "\t 5.0    & 3.6    & 1.4    & 0.2    & setosa\\\\\n",
       "\t 5.4    & 3.9    & 1.7    & 0.4    & setosa\\\\\n",
       "\\end{tabular}\n"
      ],
      "text/markdown": [
       "\n",
       "Sepal.Length | Sepal.Width | Petal.Length | Petal.Width | Species | \n",
       "|---|---|---|---|---|---|\n",
       "| 5.1    | 3.5    | 1.4    | 0.2    | setosa | \n",
       "| 4.9    | 3.0    | 1.4    | 0.2    | setosa | \n",
       "| 4.7    | 3.2    | 1.3    | 0.2    | setosa | \n",
       "| 4.6    | 3.1    | 1.5    | 0.2    | setosa | \n",
       "| 5.0    | 3.6    | 1.4    | 0.2    | setosa | \n",
       "| 5.4    | 3.9    | 1.7    | 0.4    | setosa | \n",
       "\n",
       "\n"
      ],
      "text/plain": [
       "  Sepal.Length Sepal.Width Petal.Length Petal.Width Species\n",
       "1 5.1          3.5         1.4          0.2         setosa \n",
       "2 4.9          3.0         1.4          0.2         setosa \n",
       "3 4.7          3.2         1.3          0.2         setosa \n",
       "4 4.6          3.1         1.5          0.2         setosa \n",
       "5 5.0          3.6         1.4          0.2         setosa \n",
       "6 5.4          3.9         1.7          0.4         setosa "
      ]
     },
     "metadata": {},
     "output_type": "display_data"
    }
   ],
   "source": [
    "options(warn=-1)\n",
    "library(dplyr,tidyr)\n",
    "\n",
    "head(iris)"
   ]
  },
  {
   "cell_type": "code",
   "execution_count": 5,
   "metadata": {},
   "outputs": [
    {
     "data": {
      "text/html": [
       "<table>\n",
       "<thead><tr><th scope=col>Sepal.Length</th><th scope=col>Sepal.Width</th><th scope=col>Petal.Length</th><th scope=col>Petal.Width</th><th scope=col>Species</th></tr></thead>\n",
       "<tbody>\n",
       "\t<tr><td>5.1   </td><td>3.5   </td><td>1.4   </td><td>0.2   </td><td>setosa</td></tr>\n",
       "\t<tr><td>4.9   </td><td>3.0   </td><td>1.4   </td><td>0.2   </td><td>setosa</td></tr>\n",
       "\t<tr><td>4.7   </td><td>3.2   </td><td>1.3   </td><td>0.2   </td><td>setosa</td></tr>\n",
       "\t<tr><td>4.6   </td><td>3.1   </td><td>1.5   </td><td>0.2   </td><td>setosa</td></tr>\n",
       "\t<tr><td>5.0   </td><td>3.6   </td><td>1.4   </td><td>0.2   </td><td>setosa</td></tr>\n",
       "\t<tr><td>5.4   </td><td>3.9   </td><td>1.7   </td><td>0.4   </td><td>setosa</td></tr>\n",
       "</tbody>\n",
       "</table>\n"
      ],
      "text/latex": [
       "\\begin{tabular}{r|lllll}\n",
       " Sepal.Length & Sepal.Width & Petal.Length & Petal.Width & Species\\\\\n",
       "\\hline\n",
       "\t 5.1    & 3.5    & 1.4    & 0.2    & setosa\\\\\n",
       "\t 4.9    & 3.0    & 1.4    & 0.2    & setosa\\\\\n",
       "\t 4.7    & 3.2    & 1.3    & 0.2    & setosa\\\\\n",
       "\t 4.6    & 3.1    & 1.5    & 0.2    & setosa\\\\\n",
       "\t 5.0    & 3.6    & 1.4    & 0.2    & setosa\\\\\n",
       "\t 5.4    & 3.9    & 1.7    & 0.4    & setosa\\\\\n",
       "\\end{tabular}\n"
      ],
      "text/markdown": [
       "\n",
       "Sepal.Length | Sepal.Width | Petal.Length | Petal.Width | Species | \n",
       "|---|---|---|---|---|---|\n",
       "| 5.1    | 3.5    | 1.4    | 0.2    | setosa | \n",
       "| 4.9    | 3.0    | 1.4    | 0.2    | setosa | \n",
       "| 4.7    | 3.2    | 1.3    | 0.2    | setosa | \n",
       "| 4.6    | 3.1    | 1.5    | 0.2    | setosa | \n",
       "| 5.0    | 3.6    | 1.4    | 0.2    | setosa | \n",
       "| 5.4    | 3.9    | 1.7    | 0.4    | setosa | \n",
       "\n",
       "\n"
      ],
      "text/plain": [
       "  Sepal.Length Sepal.Width Petal.Length Petal.Width Species\n",
       "1 5.1          3.5         1.4          0.2         setosa \n",
       "2 4.9          3.0         1.4          0.2         setosa \n",
       "3 4.7          3.2         1.3          0.2         setosa \n",
       "4 4.6          3.1         1.5          0.2         setosa \n",
       "5 5.0          3.6         1.4          0.2         setosa \n",
       "6 5.4          3.9         1.7          0.4         setosa "
      ]
     },
     "metadata": {},
     "output_type": "display_data"
    }
   ],
   "source": [
    "#Converts data to tbl class. \n",
    "#tbl’s are easier to examine than data frames. \n",
    "#R displays only the data that fits onscreen\n",
    "head(tbl_df(iris))"
   ]
  },
  {
   "cell_type": "code",
   "execution_count": 7,
   "metadata": {},
   "outputs": [
    {
     "name": "stdout",
     "output_type": "stream",
     "text": [
      "Observations: 150\n",
      "Variables: 5\n",
      "$ Sepal.Length <dbl> 5.1, 4.9, 4.7, 4.6, 5.0, 5.4, 4.6, 5.0, 4.4, 4.9, 5.4,...\n",
      "$ Sepal.Width  <dbl> 3.5, 3.0, 3.2, 3.1, 3.6, 3.9, 3.4, 3.4, 2.9, 3.1, 3.7,...\n",
      "$ Petal.Length <dbl> 1.4, 1.4, 1.3, 1.5, 1.4, 1.7, 1.4, 1.5, 1.4, 1.5, 1.5,...\n",
      "$ Petal.Width  <dbl> 0.2, 0.2, 0.2, 0.2, 0.2, 0.4, 0.3, 0.2, 0.2, 0.1, 0.2,...\n",
      "$ Species      <fct> setosa, setosa, setosa, setosa, setosa, setosa, setosa...\n"
     ]
    }
   ],
   "source": [
    "#Information dense summary of tbl data.\n",
    "glimpse(iris)"
   ]
  },
  {
   "cell_type": "code",
   "execution_count": 8,
   "metadata": {},
   "outputs": [
    {
     "name": "stdout",
     "output_type": "stream",
     "text": [
      "'data.frame':\t150 obs. of  5 variables:\n",
      " $ Sepal.Length: num  5.1 4.9 4.7 4.6 5 5.4 4.6 5 4.4 4.9 ...\n",
      " $ Sepal.Width : num  3.5 3 3.2 3.1 3.6 3.9 3.4 3.4 2.9 3.1 ...\n",
      " $ Petal.Length: num  1.4 1.4 1.3 1.5 1.4 1.7 1.4 1.5 1.4 1.5 ...\n",
      " $ Petal.Width : num  0.2 0.2 0.2 0.2 0.2 0.4 0.3 0.2 0.2 0.1 ...\n",
      " $ Species     : Factor w/ 3 levels \"setosa\",\"versicolor\",..: 1 1 1 1 1 1 1 1 1 1 ...\n"
     ]
    }
   ],
   "source": [
    "str(iris)"
   ]
  },
  {
   "cell_type": "code",
   "execution_count": 9,
   "metadata": {},
   "outputs": [
    {
     "ename": "ERROR",
     "evalue": "Error in View(iris): ‘View()’ not yet supported in the Jupyter R kernel\n",
     "output_type": "error",
     "traceback": [
      "Error in View(iris): ‘View()’ not yet supported in the Jupyter R kernel\nTraceback:\n",
      "1. View(iris)",
      "2. stop(sQuote(\"View()\"), \" not yet supported in the Jupyter R kernel\")"
     ]
    }
   ],
   "source": [
    "#View data set in spreadsheet-like display (note capital V).\n",
    "View(iris)"
   ]
  },
  {
   "cell_type": "code",
   "execution_count": 14,
   "metadata": {},
   "outputs": [
    {
     "data": {
      "text/html": [
       "<table>\n",
       "<thead><tr><th scope=col>Species</th><th scope=col>avg</th></tr></thead>\n",
       "<tbody>\n",
       "\t<tr><td>versicolor</td><td>2.770     </td></tr>\n",
       "\t<tr><td>virginica </td><td>2.974     </td></tr>\n",
       "\t<tr><td>setosa    </td><td>3.428     </td></tr>\n",
       "</tbody>\n",
       "</table>\n"
      ],
      "text/latex": [
       "\\begin{tabular}{r|ll}\n",
       " Species & avg\\\\\n",
       "\\hline\n",
       "\t versicolor & 2.770     \\\\\n",
       "\t virginica  & 2.974     \\\\\n",
       "\t setosa     & 3.428     \\\\\n",
       "\\end{tabular}\n"
      ],
      "text/markdown": [
       "\n",
       "Species | avg | \n",
       "|---|---|---|\n",
       "| versicolor | 2.770      | \n",
       "| virginica  | 2.974      | \n",
       "| setosa     | 3.428      | \n",
       "\n",
       "\n"
      ],
      "text/plain": [
       "  Species    avg  \n",
       "1 versicolor 2.770\n",
       "2 virginica  2.974\n",
       "3 setosa     3.428"
      ]
     },
     "metadata": {},
     "output_type": "display_data"
    },
    {
     "data": {
      "text/html": [
       "<table>\n",
       "<thead><tr><th scope=col>Sepal.Length</th><th scope=col>Sepal.Width</th><th scope=col>Petal.Length</th><th scope=col>Petal.Width</th><th scope=col>Species</th></tr></thead>\n",
       "<tbody>\n",
       "\t<tr><td>5.1   </td><td>3.5   </td><td>1.4   </td><td>0.2   </td><td>setosa</td></tr>\n",
       "\t<tr><td>4.9   </td><td>3.0   </td><td>1.4   </td><td>0.2   </td><td>setosa</td></tr>\n",
       "\t<tr><td>4.7   </td><td>3.2   </td><td>1.3   </td><td>0.2   </td><td>setosa</td></tr>\n",
       "\t<tr><td>4.6   </td><td>3.1   </td><td>1.5   </td><td>0.2   </td><td>setosa</td></tr>\n",
       "\t<tr><td>5.0   </td><td>3.6   </td><td>1.4   </td><td>0.2   </td><td>setosa</td></tr>\n",
       "\t<tr><td>5.4   </td><td>3.9   </td><td>1.7   </td><td>0.4   </td><td>setosa</td></tr>\n",
       "</tbody>\n",
       "</table>\n"
      ],
      "text/latex": [
       "\\begin{tabular}{r|lllll}\n",
       " Sepal.Length & Sepal.Width & Petal.Length & Petal.Width & Species\\\\\n",
       "\\hline\n",
       "\t 5.1    & 3.5    & 1.4    & 0.2    & setosa\\\\\n",
       "\t 4.9    & 3.0    & 1.4    & 0.2    & setosa\\\\\n",
       "\t 4.7    & 3.2    & 1.3    & 0.2    & setosa\\\\\n",
       "\t 4.6    & 3.1    & 1.5    & 0.2    & setosa\\\\\n",
       "\t 5.0    & 3.6    & 1.4    & 0.2    & setosa\\\\\n",
       "\t 5.4    & 3.9    & 1.7    & 0.4    & setosa\\\\\n",
       "\\end{tabular}\n"
      ],
      "text/markdown": [
       "\n",
       "Sepal.Length | Sepal.Width | Petal.Length | Petal.Width | Species | \n",
       "|---|---|---|---|---|---|\n",
       "| 5.1    | 3.5    | 1.4    | 0.2    | setosa | \n",
       "| 4.9    | 3.0    | 1.4    | 0.2    | setosa | \n",
       "| 4.7    | 3.2    | 1.3    | 0.2    | setosa | \n",
       "| 4.6    | 3.1    | 1.5    | 0.2    | setosa | \n",
       "| 5.0    | 3.6    | 1.4    | 0.2    | setosa | \n",
       "| 5.4    | 3.9    | 1.7    | 0.4    | setosa | \n",
       "\n",
       "\n"
      ],
      "text/plain": [
       "  Sepal.Length Sepal.Width Petal.Length Petal.Width Species\n",
       "1 5.1          3.5         1.4          0.2         setosa \n",
       "2 4.9          3.0         1.4          0.2         setosa \n",
       "3 4.7          3.2         1.3          0.2         setosa \n",
       "4 4.6          3.1         1.5          0.2         setosa \n",
       "5 5.0          3.6         1.4          0.2         setosa \n",
       "6 5.4          3.9         1.7          0.4         setosa "
      ]
     },
     "metadata": {},
     "output_type": "display_data"
    },
    {
     "data": {
      "text/html": [
       "<table>\n",
       "<thead><tr><th scope=col>Species</th><th scope=col>avg</th></tr></thead>\n",
       "<tbody>\n",
       "\t<tr><td>versicolor</td><td>2.770     </td></tr>\n",
       "\t<tr><td>virginica </td><td>2.974     </td></tr>\n",
       "\t<tr><td>setosa    </td><td>3.428     </td></tr>\n",
       "</tbody>\n",
       "</table>\n"
      ],
      "text/latex": [
       "\\begin{tabular}{r|ll}\n",
       " Species & avg\\\\\n",
       "\\hline\n",
       "\t versicolor & 2.770     \\\\\n",
       "\t virginica  & 2.974     \\\\\n",
       "\t setosa     & 3.428     \\\\\n",
       "\\end{tabular}\n"
      ],
      "text/markdown": [
       "\n",
       "Species | avg | \n",
       "|---|---|---|\n",
       "| versicolor | 2.770      | \n",
       "| virginica  | 2.974      | \n",
       "| setosa     | 3.428      | \n",
       "\n",
       "\n"
      ],
      "text/plain": [
       "  Species    avg  \n",
       "1 versicolor 2.770\n",
       "2 virginica  2.974\n",
       "3 setosa     3.428"
      ]
     },
     "metadata": {},
     "output_type": "display_data"
    }
   ],
   "source": [
    "# \"Piping\" with %>%\n",
    "# x %>% f(y) is the same as f(x, y)\n",
    " iris %>%\n",
    "        group_by(Species) %>%\n",
    "        summarise(avg = mean(Sepal.Width)) %>%\n",
    "        arrange(avg)\n",
    "#1\n",
    "head(iris)\n",
    "#2\n",
    "groups<-group_by(iris,Species)\n",
    "#3\n",
    "avgd<-summarise(groups,avg = mean(Sepal.Width))\n",
    "#4\n",
    "arrange(avgd,avg)"
   ]
  },
  {
   "cell_type": "markdown",
   "metadata": {},
   "source": [
    "### Summarise Cases "
   ]
  },
  {
   "cell_type": "code",
   "execution_count": 86,
   "metadata": {},
   "outputs": [
    {
     "data": {
      "text/html": [
       "<table>\n",
       "<thead><tr><th scope=col>avg</th></tr></thead>\n",
       "<tbody>\n",
       "\t<tr><td>20.09062</td></tr>\n",
       "</tbody>\n",
       "</table>\n"
      ],
      "text/latex": [
       "\\begin{tabular}{r|l}\n",
       " avg\\\\\n",
       "\\hline\n",
       "\t 20.09062\\\\\n",
       "\\end{tabular}\n"
      ],
      "text/markdown": [
       "\n",
       "avg | \n",
       "|---|\n",
       "| 20.09062 | \n",
       "\n",
       "\n"
      ],
      "text/plain": [
       "  avg     \n",
       "1 20.09062"
      ]
     },
     "metadata": {},
     "output_type": "display_data"
    },
    {
     "data": {
      "text/html": [
       "<table>\n",
       "<thead><tr><th scope=col>mpg</th><th scope=col>cyl</th><th scope=col>disp</th><th scope=col>hp</th><th scope=col>drat</th><th scope=col>wt</th><th scope=col>qsec</th><th scope=col>vs</th><th scope=col>am</th><th scope=col>gear</th><th scope=col>carb</th></tr></thead>\n",
       "<tbody>\n",
       "\t<tr><td>20.09062</td><td>6.1875  </td><td>230.7219</td><td>146.6875</td><td>3.596563</td><td>3.21725 </td><td>17.84875</td><td>0.4375  </td><td>0.40625 </td><td>3.6875  </td><td>2.8125  </td></tr>\n",
       "</tbody>\n",
       "</table>\n"
      ],
      "text/latex": [
       "\\begin{tabular}{r|lllllllllll}\n",
       " mpg & cyl & disp & hp & drat & wt & qsec & vs & am & gear & carb\\\\\n",
       "\\hline\n",
       "\t 20.09062 & 6.1875   & 230.7219 & 146.6875 & 3.596563 & 3.21725  & 17.84875 & 0.4375   & 0.40625  & 3.6875   & 2.8125  \\\\\n",
       "\\end{tabular}\n"
      ],
      "text/markdown": [
       "\n",
       "mpg | cyl | disp | hp | drat | wt | qsec | vs | am | gear | carb | \n",
       "|---|\n",
       "| 20.09062 | 6.1875   | 230.7219 | 146.6875 | 3.596563 | 3.21725  | 17.84875 | 0.4375   | 0.40625  | 3.6875   | 2.8125   | \n",
       "\n",
       "\n"
      ],
      "text/plain": [
       "  mpg      cyl    disp     hp       drat     wt      qsec     vs     am     \n",
       "1 20.09062 6.1875 230.7219 146.6875 3.596563 3.21725 17.84875 0.4375 0.40625\n",
       "  gear   carb  \n",
       "1 3.6875 2.8125"
      ]
     },
     "metadata": {},
     "output_type": "display_data"
    },
    {
     "data": {
      "text/html": [
       "<table>\n",
       "<thead><tr><th scope=col>mpg</th><th scope=col>cyl</th></tr></thead>\n",
       "<tbody>\n",
       "\t<tr><td>20.09062</td><td>6.1875  </td></tr>\n",
       "</tbody>\n",
       "</table>\n"
      ],
      "text/latex": [
       "\\begin{tabular}{r|ll}\n",
       " mpg & cyl\\\\\n",
       "\\hline\n",
       "\t 20.09062 & 6.1875  \\\\\n",
       "\\end{tabular}\n"
      ],
      "text/markdown": [
       "\n",
       "mpg | cyl | \n",
       "|---|\n",
       "| 20.09062 | 6.1875   | \n",
       "\n",
       "\n"
      ],
      "text/plain": [
       "  mpg      cyl   \n",
       "1 20.09062 6.1875"
      ]
     },
     "metadata": {},
     "output_type": "display_data"
    },
    {
     "data": {
      "text/html": [
       "<table>\n",
       "<thead><tr><th scope=col>mpg</th><th scope=col>cyl</th><th scope=col>disp</th><th scope=col>hp</th><th scope=col>drat</th><th scope=col>wt</th><th scope=col>qsec</th><th scope=col>vs</th><th scope=col>am</th><th scope=col>gear</th><th scope=col>carb</th></tr></thead>\n",
       "<tbody>\n",
       "\t<tr><td>20.09062</td><td>6.1875  </td><td>230.7219</td><td>146.6875</td><td>3.596563</td><td>3.21725 </td><td>17.84875</td><td>0.4375  </td><td>0.40625 </td><td>3.6875  </td><td>2.8125  </td></tr>\n",
       "</tbody>\n",
       "</table>\n"
      ],
      "text/latex": [
       "\\begin{tabular}{r|lllllllllll}\n",
       " mpg & cyl & disp & hp & drat & wt & qsec & vs & am & gear & carb\\\\\n",
       "\\hline\n",
       "\t 20.09062 & 6.1875   & 230.7219 & 146.6875 & 3.596563 & 3.21725  & 17.84875 & 0.4375   & 0.40625  & 3.6875   & 2.8125  \\\\\n",
       "\\end{tabular}\n"
      ],
      "text/markdown": [
       "\n",
       "mpg | cyl | disp | hp | drat | wt | qsec | vs | am | gear | carb | \n",
       "|---|\n",
       "| 20.09062 | 6.1875   | 230.7219 | 146.6875 | 3.596563 | 3.21725  | 17.84875 | 0.4375   | 0.40625  | 3.6875   | 2.8125   | \n",
       "\n",
       "\n"
      ],
      "text/plain": [
       "  mpg      cyl    disp     hp       drat     wt      qsec     vs     am     \n",
       "1 20.09062 6.1875 230.7219 146.6875 3.596563 3.21725 17.84875 0.4375 0.40625\n",
       "  gear   carb  \n",
       "1 3.6875 2.8125"
      ]
     },
     "metadata": {},
     "output_type": "display_data"
    },
    {
     "data": {
      "text/html": [
       "<table>\n",
       "<thead><tr><th scope=col>Species</th><th scope=col>n</th></tr></thead>\n",
       "<tbody>\n",
       "\t<tr><td>setosa    </td><td>50        </td></tr>\n",
       "\t<tr><td>versicolor</td><td>50        </td></tr>\n",
       "\t<tr><td>virginica </td><td>50        </td></tr>\n",
       "</tbody>\n",
       "</table>\n"
      ],
      "text/latex": [
       "\\begin{tabular}{r|ll}\n",
       " Species & n\\\\\n",
       "\\hline\n",
       "\t setosa     & 50        \\\\\n",
       "\t versicolor & 50        \\\\\n",
       "\t virginica  & 50        \\\\\n",
       "\\end{tabular}\n"
      ],
      "text/markdown": [
       "\n",
       "Species | n | \n",
       "|---|---|---|\n",
       "| setosa     | 50         | \n",
       "| versicolor | 50         | \n",
       "| virginica  | 50         | \n",
       "\n",
       "\n"
      ],
      "text/plain": [
       "  Species    n \n",
       "1 setosa     50\n",
       "2 versicolor 50\n",
       "3 virginica  50"
      ]
     },
     "metadata": {},
     "output_type": "display_data"
    }
   ],
   "source": [
    "#These apply summary functions to columns to create a new table of summary statistics. \n",
    "#Summary functions take vectors as input and return one value (see back).\n",
    "summarise(mtcars, avg = mean(mpg))\n",
    "summarise_all(mtcars,mean)\n",
    "mtcars%>%summarise_at(vars(mpg,cyl),mean,na.rm = TRUE)\n",
    "# The _if() variants apply a predicate function (a function that\n",
    "# returns TRUE or FALSE) to determine the relevant subset of\n",
    "# columns. Here we apply mean() to the numeric columns:\n",
    "mtcars%>%summarise_if(is.numeric,mean,na.rm = TRUE)\n",
    "\n",
    "#Count number of rows in each group defined by the variables in ... Also tally().\n",
    "count(iris, Species)\n",
    "\n",
    "#COUNTS\n",
    "#dplyr::n() - number of values/rows \n",
    "#dplyr::n_distinct() - # of uniques\n",
    "#sum(!is.na()) - # of non-NA’s\n",
    "#LOCATION\n",
    "#mean() - mean, also mean(!is.na()) \n",
    "#median() - median\n",
    "#LOGICALS\n",
    "#mean() - Proportion of TRUE’s \n",
    "#sum() - # of TRUE’s\n",
    "#POSITION/ORDER\n",
    "#dplyr::first() - first value\n",
    "#dplyr::last() - last value\n",
    "#dplyr::nth() - value in nth location of vector\n",
    "#RANK\n",
    "#quantile() - nth quantile \n",
    "#min() - minimum value \n",
    "#max() - maximum value\n",
    "#SPREAD\n",
    "#IQR() - Inter-Quartile Range\n",
    "#mad() - median absolute deviation \n",
    "#sd() - standard deviation\n",
    "#var() - variance"
   ]
  },
  {
   "cell_type": "markdown",
   "metadata": {},
   "source": [
    "### Group Cases"
   ]
  },
  {
   "cell_type": "code",
   "execution_count": 36,
   "metadata": {},
   "outputs": [
    {
     "data": {
      "text/html": [
       "<table>\n",
       "<thead><tr><th scope=col>cyl</th><th scope=col>avg_mpg</th></tr></thead>\n",
       "<tbody>\n",
       "\t<tr><td>4       </td><td>26.66364</td></tr>\n",
       "\t<tr><td>6       </td><td>19.74286</td></tr>\n",
       "\t<tr><td>8       </td><td>15.10000</td></tr>\n",
       "</tbody>\n",
       "</table>\n"
      ],
      "text/latex": [
       "\\begin{tabular}{r|ll}\n",
       " cyl & avg\\_mpg\\\\\n",
       "\\hline\n",
       "\t 4        & 26.66364\\\\\n",
       "\t 6        & 19.74286\\\\\n",
       "\t 8        & 15.10000\\\\\n",
       "\\end{tabular}\n"
      ],
      "text/markdown": [
       "\n",
       "cyl | avg_mpg | \n",
       "|---|---|---|\n",
       "| 4        | 26.66364 | \n",
       "| 6        | 19.74286 | \n",
       "| 8        | 15.10000 | \n",
       "\n",
       "\n"
      ],
      "text/plain": [
       "  cyl avg_mpg \n",
       "1 4   26.66364\n",
       "2 6   19.74286\n",
       "3 8   15.10000"
      ]
     },
     "metadata": {},
     "output_type": "display_data"
    }
   ],
   "source": [
    "#Use group_by() to create a \"grouped\" copy of a table.\n",
    "mtcars %>% group_by(cyl) %>% summarise(avg_mpg = mean(mpg))"
   ]
  },
  {
   "cell_type": "code",
   "execution_count": 38,
   "metadata": {},
   "outputs": [
    {
     "data": {
      "text/html": [
       "<table>\n",
       "<thead><tr><th scope=col>Sepal.Length</th><th scope=col>Sepal.Width</th><th scope=col>Petal.Length</th><th scope=col>Petal.Width</th><th scope=col>Species</th></tr></thead>\n",
       "<tbody>\n",
       "\t<tr><td>5.1   </td><td>3.5   </td><td>1.4   </td><td>0.2   </td><td>setosa</td></tr>\n",
       "\t<tr><td>4.9   </td><td>3.0   </td><td>1.4   </td><td>0.2   </td><td>setosa</td></tr>\n",
       "\t<tr><td>4.7   </td><td>3.2   </td><td>1.3   </td><td>0.2   </td><td>setosa</td></tr>\n",
       "\t<tr><td>4.6   </td><td>3.1   </td><td>1.5   </td><td>0.2   </td><td>setosa</td></tr>\n",
       "\t<tr><td>5.0   </td><td>3.6   </td><td>1.4   </td><td>0.2   </td><td>setosa</td></tr>\n",
       "\t<tr><td>5.4   </td><td>3.9   </td><td>1.7   </td><td>0.4   </td><td>setosa</td></tr>\n",
       "</tbody>\n",
       "</table>\n"
      ],
      "text/latex": [
       "\\begin{tabular}{r|lllll}\n",
       " Sepal.Length & Sepal.Width & Petal.Length & Petal.Width & Species\\\\\n",
       "\\hline\n",
       "\t 5.1    & 3.5    & 1.4    & 0.2    & setosa\\\\\n",
       "\t 4.9    & 3.0    & 1.4    & 0.2    & setosa\\\\\n",
       "\t 4.7    & 3.2    & 1.3    & 0.2    & setosa\\\\\n",
       "\t 4.6    & 3.1    & 1.5    & 0.2    & setosa\\\\\n",
       "\t 5.0    & 3.6    & 1.4    & 0.2    & setosa\\\\\n",
       "\t 5.4    & 3.9    & 1.7    & 0.4    & setosa\\\\\n",
       "\\end{tabular}\n"
      ],
      "text/markdown": [
       "\n",
       "Sepal.Length | Sepal.Width | Petal.Length | Petal.Width | Species | \n",
       "|---|---|---|---|---|---|\n",
       "| 5.1    | 3.5    | 1.4    | 0.2    | setosa | \n",
       "| 4.9    | 3.0    | 1.4    | 0.2    | setosa | \n",
       "| 4.7    | 3.2    | 1.3    | 0.2    | setosa | \n",
       "| 4.6    | 3.1    | 1.5    | 0.2    | setosa | \n",
       "| 5.0    | 3.6    | 1.4    | 0.2    | setosa | \n",
       "| 5.4    | 3.9    | 1.7    | 0.4    | setosa | \n",
       "\n",
       "\n"
      ],
      "text/plain": [
       "  Sepal.Length Sepal.Width Petal.Length Petal.Width Species\n",
       "1 5.1          3.5         1.4          0.2         setosa \n",
       "2 4.9          3.0         1.4          0.2         setosa \n",
       "3 4.7          3.2         1.3          0.2         setosa \n",
       "4 4.6          3.1         1.5          0.2         setosa \n",
       "5 5.0          3.6         1.4          0.2         setosa \n",
       "6 5.4          3.9         1.7          0.4         setosa "
      ]
     },
     "metadata": {},
     "output_type": "display_data"
    }
   ],
   "source": [
    "#ungroup\n",
    "g_iris <- group_by(iris, Species)\n",
    "head(ungroup(g_iris))"
   ]
  },
  {
   "cell_type": "markdown",
   "metadata": {},
   "source": [
    "### Manipulate Cases"
   ]
  },
  {
   "cell_type": "code",
   "execution_count": 45,
   "metadata": {},
   "outputs": [
    {
     "data": {
      "text/html": [
       "<table>\n",
       "<thead><tr><th scope=col>Sepal.Length</th><th scope=col>Sepal.Width</th><th scope=col>Petal.Length</th><th scope=col>Petal.Width</th><th scope=col>Species</th></tr></thead>\n",
       "<tbody>\n",
       "\t<tr><td>7.1      </td><td>3.0      </td><td>5.9      </td><td>2.1      </td><td>virginica</td></tr>\n",
       "\t<tr><td>7.6      </td><td>3.0      </td><td>6.6      </td><td>2.1      </td><td>virginica</td></tr>\n",
       "\t<tr><td>7.3      </td><td>2.9      </td><td>6.3      </td><td>1.8      </td><td>virginica</td></tr>\n",
       "\t<tr><td>7.2      </td><td>3.6      </td><td>6.1      </td><td>2.5      </td><td>virginica</td></tr>\n",
       "\t<tr><td>7.7      </td><td>3.8      </td><td>6.7      </td><td>2.2      </td><td>virginica</td></tr>\n",
       "\t<tr><td>7.7      </td><td>2.6      </td><td>6.9      </td><td>2.3      </td><td>virginica</td></tr>\n",
       "\t<tr><td>7.7      </td><td>2.8      </td><td>6.7      </td><td>2.0      </td><td>virginica</td></tr>\n",
       "\t<tr><td>7.2      </td><td>3.2      </td><td>6.0      </td><td>1.8      </td><td>virginica</td></tr>\n",
       "\t<tr><td>7.2      </td><td>3.0      </td><td>5.8      </td><td>1.6      </td><td>virginica</td></tr>\n",
       "\t<tr><td>7.4      </td><td>2.8      </td><td>6.1      </td><td>1.9      </td><td>virginica</td></tr>\n",
       "\t<tr><td>7.9      </td><td>3.8      </td><td>6.4      </td><td>2.0      </td><td>virginica</td></tr>\n",
       "\t<tr><td>7.7      </td><td>3.0      </td><td>6.1      </td><td>2.3      </td><td>virginica</td></tr>\n",
       "</tbody>\n",
       "</table>\n"
      ],
      "text/latex": [
       "\\begin{tabular}{r|lllll}\n",
       " Sepal.Length & Sepal.Width & Petal.Length & Petal.Width & Species\\\\\n",
       "\\hline\n",
       "\t 7.1       & 3.0       & 5.9       & 2.1       & virginica\\\\\n",
       "\t 7.6       & 3.0       & 6.6       & 2.1       & virginica\\\\\n",
       "\t 7.3       & 2.9       & 6.3       & 1.8       & virginica\\\\\n",
       "\t 7.2       & 3.6       & 6.1       & 2.5       & virginica\\\\\n",
       "\t 7.7       & 3.8       & 6.7       & 2.2       & virginica\\\\\n",
       "\t 7.7       & 2.6       & 6.9       & 2.3       & virginica\\\\\n",
       "\t 7.7       & 2.8       & 6.7       & 2.0       & virginica\\\\\n",
       "\t 7.2       & 3.2       & 6.0       & 1.8       & virginica\\\\\n",
       "\t 7.2       & 3.0       & 5.8       & 1.6       & virginica\\\\\n",
       "\t 7.4       & 2.8       & 6.1       & 1.9       & virginica\\\\\n",
       "\t 7.9       & 3.8       & 6.4       & 2.0       & virginica\\\\\n",
       "\t 7.7       & 3.0       & 6.1       & 2.3       & virginica\\\\\n",
       "\\end{tabular}\n"
      ],
      "text/markdown": [
       "\n",
       "Sepal.Length | Sepal.Width | Petal.Length | Petal.Width | Species | \n",
       "|---|---|---|---|---|---|---|---|---|---|---|---|\n",
       "| 7.1       | 3.0       | 5.9       | 2.1       | virginica | \n",
       "| 7.6       | 3.0       | 6.6       | 2.1       | virginica | \n",
       "| 7.3       | 2.9       | 6.3       | 1.8       | virginica | \n",
       "| 7.2       | 3.6       | 6.1       | 2.5       | virginica | \n",
       "| 7.7       | 3.8       | 6.7       | 2.2       | virginica | \n",
       "| 7.7       | 2.6       | 6.9       | 2.3       | virginica | \n",
       "| 7.7       | 2.8       | 6.7       | 2.0       | virginica | \n",
       "| 7.2       | 3.2       | 6.0       | 1.8       | virginica | \n",
       "| 7.2       | 3.0       | 5.8       | 1.6       | virginica | \n",
       "| 7.4       | 2.8       | 6.1       | 1.9       | virginica | \n",
       "| 7.9       | 3.8       | 6.4       | 2.0       | virginica | \n",
       "| 7.7       | 3.0       | 6.1       | 2.3       | virginica | \n",
       "\n",
       "\n"
      ],
      "text/plain": [
       "   Sepal.Length Sepal.Width Petal.Length Petal.Width Species  \n",
       "1  7.1          3.0         5.9          2.1         virginica\n",
       "2  7.6          3.0         6.6          2.1         virginica\n",
       "3  7.3          2.9         6.3          1.8         virginica\n",
       "4  7.2          3.6         6.1          2.5         virginica\n",
       "5  7.7          3.8         6.7          2.2         virginica\n",
       "6  7.7          2.6         6.9          2.3         virginica\n",
       "7  7.7          2.8         6.7          2.0         virginica\n",
       "8  7.2          3.2         6.0          1.8         virginica\n",
       "9  7.2          3.0         5.8          1.6         virginica\n",
       "10 7.4          2.8         6.1          1.9         virginica\n",
       "11 7.9          3.8         6.4          2.0         virginica\n",
       "12 7.7          3.0         6.1          2.3         virginica"
      ]
     },
     "metadata": {},
     "output_type": "display_data"
    },
    {
     "data": {
      "text/html": [
       "<table>\n",
       "<thead><tr><th scope=col>Sepal.Length</th><th scope=col>Sepal.Width</th><th scope=col>Petal.Length</th><th scope=col>Petal.Width</th><th scope=col>Species</th></tr></thead>\n",
       "<tbody>\n",
       "</tbody>\n",
       "</table>\n"
      ],
      "text/latex": [
       "\\begin{tabular}{r|lllll}\n",
       " Sepal.Length & Sepal.Width & Petal.Length & Petal.Width & Species\\\\\n",
       "\\hline\n",
       "\\end{tabular}\n"
      ],
      "text/markdown": [
       "\n",
       "Sepal.Length | Sepal.Width | Petal.Length | Petal.Width | Species | \n",
       "||\n",
       "\n",
       "\n"
      ],
      "text/plain": [
       "     Sepal.Length Sepal.Width Petal.Length Petal.Width Species"
      ]
     },
     "metadata": {},
     "output_type": "display_data"
    },
    {
     "data": {
      "text/html": [
       "<table>\n",
       "<thead><tr><th scope=col>Sepal.Length</th><th scope=col>Sepal.Width</th><th scope=col>Petal.Length</th><th scope=col>Petal.Width</th><th scope=col>Species</th></tr></thead>\n",
       "<tbody>\n",
       "\t<tr><td>5.7      </td><td>3.8      </td><td>1.7      </td><td>0.3      </td><td>setosa   </td></tr>\n",
       "\t<tr><td>5.1      </td><td>3.8      </td><td>1.5      </td><td>0.3      </td><td>setosa   </td></tr>\n",
       "\t<tr><td>5.1      </td><td>3.8      </td><td>1.9      </td><td>0.4      </td><td>setosa   </td></tr>\n",
       "\t<tr><td>5.1      </td><td>3.8      </td><td>1.6      </td><td>0.2      </td><td>setosa   </td></tr>\n",
       "\t<tr><td>7.1      </td><td>3.0      </td><td>5.9      </td><td>2.1      </td><td>virginica</td></tr>\n",
       "\t<tr><td>7.6      </td><td>3.0      </td><td>6.6      </td><td>2.1      </td><td>virginica</td></tr>\n",
       "\t<tr><td>7.7      </td><td>3.8      </td><td>6.7      </td><td>2.2      </td><td>virginica</td></tr>\n",
       "\t<tr><td>7.7      </td><td>2.6      </td><td>6.9      </td><td>2.3      </td><td>virginica</td></tr>\n",
       "\t<tr><td>7.7      </td><td>2.8      </td><td>6.7      </td><td>2.0      </td><td>virginica</td></tr>\n",
       "\t<tr><td>7.9      </td><td>3.8      </td><td>6.4      </td><td>2.0      </td><td>virginica</td></tr>\n",
       "\t<tr><td>7.7      </td><td>3.0      </td><td>6.1      </td><td>2.3      </td><td>virginica</td></tr>\n",
       "</tbody>\n",
       "</table>\n"
      ],
      "text/latex": [
       "\\begin{tabular}{r|lllll}\n",
       " Sepal.Length & Sepal.Width & Petal.Length & Petal.Width & Species\\\\\n",
       "\\hline\n",
       "\t 5.7       & 3.8       & 1.7       & 0.3       & setosa   \\\\\n",
       "\t 5.1       & 3.8       & 1.5       & 0.3       & setosa   \\\\\n",
       "\t 5.1       & 3.8       & 1.9       & 0.4       & setosa   \\\\\n",
       "\t 5.1       & 3.8       & 1.6       & 0.2       & setosa   \\\\\n",
       "\t 7.1       & 3.0       & 5.9       & 2.1       & virginica\\\\\n",
       "\t 7.6       & 3.0       & 6.6       & 2.1       & virginica\\\\\n",
       "\t 7.7       & 3.8       & 6.7       & 2.2       & virginica\\\\\n",
       "\t 7.7       & 2.6       & 6.9       & 2.3       & virginica\\\\\n",
       "\t 7.7       & 2.8       & 6.7       & 2.0       & virginica\\\\\n",
       "\t 7.9       & 3.8       & 6.4       & 2.0       & virginica\\\\\n",
       "\t 7.7       & 3.0       & 6.1       & 2.3       & virginica\\\\\n",
       "\\end{tabular}\n"
      ],
      "text/markdown": [
       "\n",
       "Sepal.Length | Sepal.Width | Petal.Length | Petal.Width | Species | \n",
       "|---|---|---|---|---|---|---|---|---|---|---|\n",
       "| 5.7       | 3.8       | 1.7       | 0.3       | setosa    | \n",
       "| 5.1       | 3.8       | 1.5       | 0.3       | setosa    | \n",
       "| 5.1       | 3.8       | 1.9       | 0.4       | setosa    | \n",
       "| 5.1       | 3.8       | 1.6       | 0.2       | setosa    | \n",
       "| 7.1       | 3.0       | 5.9       | 2.1       | virginica | \n",
       "| 7.6       | 3.0       | 6.6       | 2.1       | virginica | \n",
       "| 7.7       | 3.8       | 6.7       | 2.2       | virginica | \n",
       "| 7.7       | 2.6       | 6.9       | 2.3       | virginica | \n",
       "| 7.7       | 2.8       | 6.7       | 2.0       | virginica | \n",
       "| 7.9       | 3.8       | 6.4       | 2.0       | virginica | \n",
       "| 7.7       | 3.0       | 6.1       | 2.3       | virginica | \n",
       "\n",
       "\n"
      ],
      "text/plain": [
       "   Sepal.Length Sepal.Width Petal.Length Petal.Width Species  \n",
       "1  5.7          3.8         1.7          0.3         setosa   \n",
       "2  5.1          3.8         1.5          0.3         setosa   \n",
       "3  5.1          3.8         1.9          0.4         setosa   \n",
       "4  5.1          3.8         1.6          0.2         setosa   \n",
       "5  7.1          3.0         5.9          2.1         virginica\n",
       "6  7.6          3.0         6.6          2.1         virginica\n",
       "7  7.7          3.8         6.7          2.2         virginica\n",
       "8  7.7          2.6         6.9          2.3         virginica\n",
       "9  7.7          2.8         6.7          2.0         virginica\n",
       "10 7.9          3.8         6.4          2.0         virginica\n",
       "11 7.7          3.0         6.1          2.3         virginica"
      ]
     },
     "metadata": {},
     "output_type": "display_data"
    }
   ],
   "source": [
    "#Extract rows that meet logical criteria.\n",
    "filter(iris, Sepal.Length > 7)\n",
    "filter(iris, is.na(Sepal.Length))\n",
    "filter(iris, !is.na(Sepal.Length) & Sepal.Length%in%c(7.6,7.1,7.7) | Sepal.Width == 3.8)"
   ]
  },
  {
   "cell_type": "code",
   "execution_count": 40,
   "metadata": {},
   "outputs": [
    {
     "data": {
      "text/html": [
       "<table>\n",
       "<thead><tr><th scope=col>Species</th></tr></thead>\n",
       "<tbody>\n",
       "\t<tr><td>setosa    </td></tr>\n",
       "\t<tr><td>versicolor</td></tr>\n",
       "\t<tr><td>virginica </td></tr>\n",
       "</tbody>\n",
       "</table>\n"
      ],
      "text/latex": [
       "\\begin{tabular}{r|l}\n",
       " Species\\\\\n",
       "\\hline\n",
       "\t setosa    \\\\\n",
       "\t versicolor\\\\\n",
       "\t virginica \\\\\n",
       "\\end{tabular}\n"
      ],
      "text/markdown": [
       "\n",
       "Species | \n",
       "|---|---|---|\n",
       "| setosa     | \n",
       "| versicolor | \n",
       "| virginica  | \n",
       "\n",
       "\n"
      ],
      "text/plain": [
       "  Species   \n",
       "1 setosa    \n",
       "2 versicolor\n",
       "3 virginica "
      ]
     },
     "metadata": {},
     "output_type": "display_data"
    }
   ],
   "source": [
    "#Remove rows with duplicate values.  \n",
    "distinct(iris, Species)"
   ]
  },
  {
   "cell_type": "code",
   "execution_count": 52,
   "metadata": {},
   "outputs": [
    {
     "data": {
      "text/html": [
       "<table>\n",
       "<thead><tr><th></th><th scope=col>Sepal.Length</th><th scope=col>Sepal.Width</th><th scope=col>Petal.Length</th><th scope=col>Petal.Width</th><th scope=col>Species</th></tr></thead>\n",
       "<tbody>\n",
       "\t<tr><th scope=row>125</th><td>6.7       </td><td>3.3       </td><td>5.7       </td><td>2.1       </td><td>virginica </td></tr>\n",
       "\t<tr><th scope=row>99</th><td>5.1       </td><td>2.5       </td><td>3.0       </td><td>1.1       </td><td>versicolor</td></tr>\n",
       "\t<tr><th scope=row>106</th><td>7.6       </td><td>3.0       </td><td>6.6       </td><td>2.1       </td><td>virginica </td></tr>\n",
       "\t<tr><th scope=row>9</th><td>4.4       </td><td>2.9       </td><td>1.4       </td><td>0.2       </td><td>setosa    </td></tr>\n",
       "\t<tr><th scope=row>54</th><td>5.5       </td><td>2.3       </td><td>4.0       </td><td>1.3       </td><td>versicolor</td></tr>\n",
       "\t<tr><th scope=row>12</th><td>4.8       </td><td>3.4       </td><td>1.6       </td><td>0.2       </td><td>setosa    </td></tr>\n",
       "\t<tr><th scope=row>62</th><td>5.9       </td><td>3.0       </td><td>4.2       </td><td>1.5       </td><td>versicolor</td></tr>\n",
       "\t<tr><th scope=row>118</th><td>7.7       </td><td>3.8       </td><td>6.7       </td><td>2.2       </td><td>virginica </td></tr>\n",
       "\t<tr><th scope=row>95</th><td>5.6       </td><td>2.7       </td><td>4.2       </td><td>1.3       </td><td>versicolor</td></tr>\n",
       "\t<tr><th scope=row>12.1</th><td>4.8       </td><td>3.4       </td><td>1.6       </td><td>0.2       </td><td>setosa    </td></tr>\n",
       "\t<tr><th scope=row>92</th><td>6.1       </td><td>3.0       </td><td>4.6       </td><td>1.4       </td><td>versicolor</td></tr>\n",
       "\t<tr><th scope=row>34</th><td>5.5       </td><td>4.2       </td><td>1.4       </td><td>0.2       </td><td>setosa    </td></tr>\n",
       "\t<tr><th scope=row>52</th><td>6.4       </td><td>3.2       </td><td>4.5       </td><td>1.5       </td><td>versicolor</td></tr>\n",
       "\t<tr><th scope=row>4</th><td>4.6       </td><td>3.1       </td><td>1.5       </td><td>0.2       </td><td>setosa    </td></tr>\n",
       "\t<tr><th scope=row>119</th><td>7.7       </td><td>2.6       </td><td>6.9       </td><td>2.3       </td><td>virginica </td></tr>\n",
       "</tbody>\n",
       "</table>\n"
      ],
      "text/latex": [
       "\\begin{tabular}{r|lllll}\n",
       "  & Sepal.Length & Sepal.Width & Petal.Length & Petal.Width & Species\\\\\n",
       "\\hline\n",
       "\t125 & 6.7        & 3.3        & 5.7        & 2.1        & virginica \\\\\n",
       "\t99 & 5.1        & 2.5        & 3.0        & 1.1        & versicolor\\\\\n",
       "\t106 & 7.6        & 3.0        & 6.6        & 2.1        & virginica \\\\\n",
       "\t9 & 4.4        & 2.9        & 1.4        & 0.2        & setosa    \\\\\n",
       "\t54 & 5.5        & 2.3        & 4.0        & 1.3        & versicolor\\\\\n",
       "\t12 & 4.8        & 3.4        & 1.6        & 0.2        & setosa    \\\\\n",
       "\t62 & 5.9        & 3.0        & 4.2        & 1.5        & versicolor\\\\\n",
       "\t118 & 7.7        & 3.8        & 6.7        & 2.2        & virginica \\\\\n",
       "\t95 & 5.6        & 2.7        & 4.2        & 1.3        & versicolor\\\\\n",
       "\t12.1 & 4.8        & 3.4        & 1.6        & 0.2        & setosa    \\\\\n",
       "\t92 & 6.1        & 3.0        & 4.6        & 1.4        & versicolor\\\\\n",
       "\t34 & 5.5        & 4.2        & 1.4        & 0.2        & setosa    \\\\\n",
       "\t52 & 6.4        & 3.2        & 4.5        & 1.5        & versicolor\\\\\n",
       "\t4 & 4.6        & 3.1        & 1.5        & 0.2        & setosa    \\\\\n",
       "\t119 & 7.7        & 2.6        & 6.9        & 2.3        & virginica \\\\\n",
       "\\end{tabular}\n"
      ],
      "text/markdown": [
       "\n",
       "| <!--/--> | Sepal.Length | Sepal.Width | Petal.Length | Petal.Width | Species | \n",
       "|---|---|---|---|---|---|---|---|---|---|---|---|---|---|---|\n",
       "| 125 | 6.7        | 3.3        | 5.7        | 2.1        | virginica  | \n",
       "| 99 | 5.1        | 2.5        | 3.0        | 1.1        | versicolor | \n",
       "| 106 | 7.6        | 3.0        | 6.6        | 2.1        | virginica  | \n",
       "| 9 | 4.4        | 2.9        | 1.4        | 0.2        | setosa     | \n",
       "| 54 | 5.5        | 2.3        | 4.0        | 1.3        | versicolor | \n",
       "| 12 | 4.8        | 3.4        | 1.6        | 0.2        | setosa     | \n",
       "| 62 | 5.9        | 3.0        | 4.2        | 1.5        | versicolor | \n",
       "| 118 | 7.7        | 3.8        | 6.7        | 2.2        | virginica  | \n",
       "| 95 | 5.6        | 2.7        | 4.2        | 1.3        | versicolor | \n",
       "| 12.1 | 4.8        | 3.4        | 1.6        | 0.2        | setosa     | \n",
       "| 92 | 6.1        | 3.0        | 4.6        | 1.4        | versicolor | \n",
       "| 34 | 5.5        | 4.2        | 1.4        | 0.2        | setosa     | \n",
       "| 52 | 6.4        | 3.2        | 4.5        | 1.5        | versicolor | \n",
       "| 4 | 4.6        | 3.1        | 1.5        | 0.2        | setosa     | \n",
       "| 119 | 7.7        | 2.6        | 6.9        | 2.3        | virginica  | \n",
       "\n",
       "\n"
      ],
      "text/plain": [
       "     Sepal.Length Sepal.Width Petal.Length Petal.Width Species   \n",
       "125  6.7          3.3         5.7          2.1         virginica \n",
       "99   5.1          2.5         3.0          1.1         versicolor\n",
       "106  7.6          3.0         6.6          2.1         virginica \n",
       "9    4.4          2.9         1.4          0.2         setosa    \n",
       "54   5.5          2.3         4.0          1.3         versicolor\n",
       "12   4.8          3.4         1.6          0.2         setosa    \n",
       "62   5.9          3.0         4.2          1.5         versicolor\n",
       "118  7.7          3.8         6.7          2.2         virginica \n",
       "95   5.6          2.7         4.2          1.3         versicolor\n",
       "12.1 4.8          3.4         1.6          0.2         setosa    \n",
       "92   6.1          3.0         4.6          1.4         versicolor\n",
       "34   5.5          4.2         1.4          0.2         setosa    \n",
       "52   6.4          3.2         4.5          1.5         versicolor\n",
       "4    4.6          3.1         1.5          0.2         setosa    \n",
       "119  7.7          2.6         6.9          2.3         virginica "
      ]
     },
     "metadata": {},
     "output_type": "display_data"
    },
    {
     "data": {
      "text/html": [
       "<table>\n",
       "<thead><tr><th></th><th scope=col>Sepal.Length</th><th scope=col>Sepal.Width</th><th scope=col>Petal.Length</th><th scope=col>Petal.Width</th><th scope=col>Species</th></tr></thead>\n",
       "<tbody>\n",
       "\t<tr><th scope=row>89</th><td>5.6       </td><td>3.0       </td><td>4.1       </td><td>1.3       </td><td>versicolor</td></tr>\n",
       "\t<tr><th scope=row>12</th><td>4.8       </td><td>3.4       </td><td>1.6       </td><td>0.2       </td><td>setosa    </td></tr>\n",
       "\t<tr><th scope=row>104</th><td>6.3       </td><td>2.9       </td><td>5.6       </td><td>1.8       </td><td>virginica </td></tr>\n",
       "\t<tr><th scope=row>150</th><td>5.9       </td><td>3.0       </td><td>5.1       </td><td>1.8       </td><td>virginica </td></tr>\n",
       "\t<tr><th scope=row>109</th><td>6.7       </td><td>2.5       </td><td>5.8       </td><td>1.8       </td><td>virginica </td></tr>\n",
       "\t<tr><th scope=row>86</th><td>6.0       </td><td>3.4       </td><td>4.5       </td><td>1.6       </td><td>versicolor</td></tr>\n",
       "\t<tr><th scope=row>89.1</th><td>5.6       </td><td>3.0       </td><td>4.1       </td><td>1.3       </td><td>versicolor</td></tr>\n",
       "\t<tr><th scope=row>1</th><td>5.1       </td><td>3.5       </td><td>1.4       </td><td>0.2       </td><td>setosa    </td></tr>\n",
       "\t<tr><th scope=row>50</th><td>5.0       </td><td>3.3       </td><td>1.4       </td><td>0.2       </td><td>setosa    </td></tr>\n",
       "\t<tr><th scope=row>3</th><td>4.7       </td><td>3.2       </td><td>1.3       </td><td>0.2       </td><td>setosa    </td></tr>\n",
       "\t<tr><th scope=row>27</th><td>5.0       </td><td>3.4       </td><td>1.6       </td><td>0.4       </td><td>setosa    </td></tr>\n",
       "\t<tr><th scope=row>86.1</th><td>6.0       </td><td>3.4       </td><td>4.5       </td><td>1.6       </td><td>versicolor</td></tr>\n",
       "\t<tr><th scope=row>12.1</th><td>4.8       </td><td>3.4       </td><td>1.6       </td><td>0.2       </td><td>setosa    </td></tr>\n",
       "\t<tr><th scope=row>31</th><td>4.8       </td><td>3.1       </td><td>1.6       </td><td>0.2       </td><td>setosa    </td></tr>\n",
       "\t<tr><th scope=row>58</th><td>4.9       </td><td>2.4       </td><td>3.3       </td><td>1.0       </td><td>versicolor</td></tr>\n",
       "</tbody>\n",
       "</table>\n"
      ],
      "text/latex": [
       "\\begin{tabular}{r|lllll}\n",
       "  & Sepal.Length & Sepal.Width & Petal.Length & Petal.Width & Species\\\\\n",
       "\\hline\n",
       "\t89 & 5.6        & 3.0        & 4.1        & 1.3        & versicolor\\\\\n",
       "\t12 & 4.8        & 3.4        & 1.6        & 0.2        & setosa    \\\\\n",
       "\t104 & 6.3        & 2.9        & 5.6        & 1.8        & virginica \\\\\n",
       "\t150 & 5.9        & 3.0        & 5.1        & 1.8        & virginica \\\\\n",
       "\t109 & 6.7        & 2.5        & 5.8        & 1.8        & virginica \\\\\n",
       "\t86 & 6.0        & 3.4        & 4.5        & 1.6        & versicolor\\\\\n",
       "\t89.1 & 5.6        & 3.0        & 4.1        & 1.3        & versicolor\\\\\n",
       "\t1 & 5.1        & 3.5        & 1.4        & 0.2        & setosa    \\\\\n",
       "\t50 & 5.0        & 3.3        & 1.4        & 0.2        & setosa    \\\\\n",
       "\t3 & 4.7        & 3.2        & 1.3        & 0.2        & setosa    \\\\\n",
       "\t27 & 5.0        & 3.4        & 1.6        & 0.4        & setosa    \\\\\n",
       "\t86.1 & 6.0        & 3.4        & 4.5        & 1.6        & versicolor\\\\\n",
       "\t12.1 & 4.8        & 3.4        & 1.6        & 0.2        & setosa    \\\\\n",
       "\t31 & 4.8        & 3.1        & 1.6        & 0.2        & setosa    \\\\\n",
       "\t58 & 4.9        & 2.4        & 3.3        & 1.0        & versicolor\\\\\n",
       "\\end{tabular}\n"
      ],
      "text/markdown": [
       "\n",
       "| <!--/--> | Sepal.Length | Sepal.Width | Petal.Length | Petal.Width | Species | \n",
       "|---|---|---|---|---|---|---|---|---|---|---|---|---|---|---|\n",
       "| 89 | 5.6        | 3.0        | 4.1        | 1.3        | versicolor | \n",
       "| 12 | 4.8        | 3.4        | 1.6        | 0.2        | setosa     | \n",
       "| 104 | 6.3        | 2.9        | 5.6        | 1.8        | virginica  | \n",
       "| 150 | 5.9        | 3.0        | 5.1        | 1.8        | virginica  | \n",
       "| 109 | 6.7        | 2.5        | 5.8        | 1.8        | virginica  | \n",
       "| 86 | 6.0        | 3.4        | 4.5        | 1.6        | versicolor | \n",
       "| 89.1 | 5.6        | 3.0        | 4.1        | 1.3        | versicolor | \n",
       "| 1 | 5.1        | 3.5        | 1.4        | 0.2        | setosa     | \n",
       "| 50 | 5.0        | 3.3        | 1.4        | 0.2        | setosa     | \n",
       "| 3 | 4.7        | 3.2        | 1.3        | 0.2        | setosa     | \n",
       "| 27 | 5.0        | 3.4        | 1.6        | 0.4        | setosa     | \n",
       "| 86.1 | 6.0        | 3.4        | 4.5        | 1.6        | versicolor | \n",
       "| 12.1 | 4.8        | 3.4        | 1.6        | 0.2        | setosa     | \n",
       "| 31 | 4.8        | 3.1        | 1.6        | 0.2        | setosa     | \n",
       "| 58 | 4.9        | 2.4        | 3.3        | 1.0        | versicolor | \n",
       "\n",
       "\n"
      ],
      "text/plain": [
       "     Sepal.Length Sepal.Width Petal.Length Petal.Width Species   \n",
       "89   5.6          3.0         4.1          1.3         versicolor\n",
       "12   4.8          3.4         1.6          0.2         setosa    \n",
       "104  6.3          2.9         5.6          1.8         virginica \n",
       "150  5.9          3.0         5.1          1.8         virginica \n",
       "109  6.7          2.5         5.8          1.8         virginica \n",
       "86   6.0          3.4         4.5          1.6         versicolor\n",
       "89.1 5.6          3.0         4.1          1.3         versicolor\n",
       "1    5.1          3.5         1.4          0.2         setosa    \n",
       "50   5.0          3.3         1.4          0.2         setosa    \n",
       "3    4.7          3.2         1.3          0.2         setosa    \n",
       "27   5.0          3.4         1.6          0.4         setosa    \n",
       "86.1 6.0          3.4         4.5          1.6         versicolor\n",
       "12.1 4.8          3.4         1.6          0.2         setosa    \n",
       "31   4.8          3.1         1.6          0.2         setosa    \n",
       "58   4.9          2.4         3.3          1.0         versicolor"
      ]
     },
     "metadata": {},
     "output_type": "display_data"
    },
    {
     "data": {
      "text/html": [
       "<table>\n",
       "<thead><tr><th scope=col>n</th></tr></thead>\n",
       "<tbody>\n",
       "\t<tr><td>150</td></tr>\n",
       "</tbody>\n",
       "</table>\n"
      ],
      "text/latex": [
       "\\begin{tabular}{r|l}\n",
       " n\\\\\n",
       "\\hline\n",
       "\t 150\\\\\n",
       "\\end{tabular}\n"
      ],
      "text/markdown": [
       "\n",
       "n | \n",
       "|---|\n",
       "| 150 | \n",
       "\n",
       "\n"
      ],
      "text/plain": [
       "  n  \n",
       "1 150"
      ]
     },
     "metadata": {},
     "output_type": "display_data"
    },
    {
     "data": {
      "text/html": [
       "<table>\n",
       "<thead><tr><th></th><th scope=col>Sepal.Length</th><th scope=col>Sepal.Width</th><th scope=col>Petal.Length</th><th scope=col>Petal.Width</th><th scope=col>Species</th></tr></thead>\n",
       "<tbody>\n",
       "\t<tr><th scope=row>124</th><td>6.3       </td><td>2.7       </td><td>4.9       </td><td>1.8       </td><td>virginica </td></tr>\n",
       "\t<tr><th scope=row>148</th><td>6.5       </td><td>3.0       </td><td>5.2       </td><td>2.0       </td><td>virginica </td></tr>\n",
       "\t<tr><th scope=row>80</th><td>5.7       </td><td>2.6       </td><td>3.5       </td><td>1.0       </td><td>versicolor</td></tr>\n",
       "\t<tr><th scope=row>112</th><td>6.4       </td><td>2.7       </td><td>5.3       </td><td>1.9       </td><td>virginica </td></tr>\n",
       "\t<tr><th scope=row>13</th><td>4.8       </td><td>3.0       </td><td>1.4       </td><td>0.1       </td><td>setosa    </td></tr>\n",
       "\t<tr><th scope=row>48</th><td>4.6       </td><td>3.2       </td><td>1.4       </td><td>0.2       </td><td>setosa    </td></tr>\n",
       "\t<tr><th scope=row>22</th><td>5.1       </td><td>3.7       </td><td>1.5       </td><td>0.4       </td><td>setosa    </td></tr>\n",
       "\t<tr><th scope=row>47</th><td>5.1       </td><td>3.8       </td><td>1.6       </td><td>0.2       </td><td>setosa    </td></tr>\n",
       "\t<tr><th scope=row>127</th><td>6.2       </td><td>2.8       </td><td>4.8       </td><td>1.8       </td><td>virginica </td></tr>\n",
       "\t<tr><th scope=row>93</th><td>5.8       </td><td>2.6       </td><td>4.0       </td><td>1.2       </td><td>versicolor</td></tr>\n",
       "</tbody>\n",
       "</table>\n"
      ],
      "text/latex": [
       "\\begin{tabular}{r|lllll}\n",
       "  & Sepal.Length & Sepal.Width & Petal.Length & Petal.Width & Species\\\\\n",
       "\\hline\n",
       "\t124 & 6.3        & 2.7        & 4.9        & 1.8        & virginica \\\\\n",
       "\t148 & 6.5        & 3.0        & 5.2        & 2.0        & virginica \\\\\n",
       "\t80 & 5.7        & 2.6        & 3.5        & 1.0        & versicolor\\\\\n",
       "\t112 & 6.4        & 2.7        & 5.3        & 1.9        & virginica \\\\\n",
       "\t13 & 4.8        & 3.0        & 1.4        & 0.1        & setosa    \\\\\n",
       "\t48 & 4.6        & 3.2        & 1.4        & 0.2        & setosa    \\\\\n",
       "\t22 & 5.1        & 3.7        & 1.5        & 0.4        & setosa    \\\\\n",
       "\t47 & 5.1        & 3.8        & 1.6        & 0.2        & setosa    \\\\\n",
       "\t127 & 6.2        & 2.8        & 4.8        & 1.8        & virginica \\\\\n",
       "\t93 & 5.8        & 2.6        & 4.0        & 1.2        & versicolor\\\\\n",
       "\\end{tabular}\n"
      ],
      "text/markdown": [
       "\n",
       "| <!--/--> | Sepal.Length | Sepal.Width | Petal.Length | Petal.Width | Species | \n",
       "|---|---|---|---|---|---|---|---|---|---|\n",
       "| 124 | 6.3        | 2.7        | 4.9        | 1.8        | virginica  | \n",
       "| 148 | 6.5        | 3.0        | 5.2        | 2.0        | virginica  | \n",
       "| 80 | 5.7        | 2.6        | 3.5        | 1.0        | versicolor | \n",
       "| 112 | 6.4        | 2.7        | 5.3        | 1.9        | virginica  | \n",
       "| 13 | 4.8        | 3.0        | 1.4        | 0.1        | setosa     | \n",
       "| 48 | 4.6        | 3.2        | 1.4        | 0.2        | setosa     | \n",
       "| 22 | 5.1        | 3.7        | 1.5        | 0.4        | setosa     | \n",
       "| 47 | 5.1        | 3.8        | 1.6        | 0.2        | setosa     | \n",
       "| 127 | 6.2        | 2.8        | 4.8        | 1.8        | virginica  | \n",
       "| 93 | 5.8        | 2.6        | 4.0        | 1.2        | versicolor | \n",
       "\n",
       "\n"
      ],
      "text/plain": [
       "    Sepal.Length Sepal.Width Petal.Length Petal.Width Species   \n",
       "124 6.3          2.7         4.9          1.8         virginica \n",
       "148 6.5          3.0         5.2          2.0         virginica \n",
       "80  5.7          2.6         3.5          1.0         versicolor\n",
       "112 6.4          2.7         5.3          1.9         virginica \n",
       "13  4.8          3.0         1.4          0.1         setosa    \n",
       "48  4.6          3.2         1.4          0.2         setosa    \n",
       "22  5.1          3.7         1.5          0.4         setosa    \n",
       "47  5.1          3.8         1.6          0.2         setosa    \n",
       "127 6.2          2.8         4.8          1.8         virginica \n",
       "93  5.8          2.6         4.0          1.2         versicolor"
      ]
     },
     "metadata": {},
     "output_type": "display_data"
    },
    {
     "data": {
      "text/html": [
       "<table>\n",
       "<thead><tr><th scope=col>Sepal.Length</th><th scope=col>Sepal.Width</th><th scope=col>Petal.Length</th><th scope=col>Petal.Width</th><th scope=col>Species</th></tr></thead>\n",
       "<tbody>\n",
       "\t<tr><td>4.9   </td><td>3.1   </td><td>1.5   </td><td>0.1   </td><td>setosa</td></tr>\n",
       "\t<tr><td>5.4   </td><td>3.7   </td><td>1.5   </td><td>0.2   </td><td>setosa</td></tr>\n",
       "\t<tr><td>4.8   </td><td>3.4   </td><td>1.6   </td><td>0.2   </td><td>setosa</td></tr>\n",
       "\t<tr><td>4.8   </td><td>3.0   </td><td>1.4   </td><td>0.1   </td><td>setosa</td></tr>\n",
       "\t<tr><td>4.3   </td><td>3.0   </td><td>1.1   </td><td>0.1   </td><td>setosa</td></tr>\n",
       "\t<tr><td>5.8   </td><td>4.0   </td><td>1.2   </td><td>0.2   </td><td>setosa</td></tr>\n",
       "</tbody>\n",
       "</table>\n"
      ],
      "text/latex": [
       "\\begin{tabular}{r|lllll}\n",
       " Sepal.Length & Sepal.Width & Petal.Length & Petal.Width & Species\\\\\n",
       "\\hline\n",
       "\t 4.9    & 3.1    & 1.5    & 0.1    & setosa\\\\\n",
       "\t 5.4    & 3.7    & 1.5    & 0.2    & setosa\\\\\n",
       "\t 4.8    & 3.4    & 1.6    & 0.2    & setosa\\\\\n",
       "\t 4.8    & 3.0    & 1.4    & 0.1    & setosa\\\\\n",
       "\t 4.3    & 3.0    & 1.1    & 0.1    & setosa\\\\\n",
       "\t 5.8    & 4.0    & 1.2    & 0.2    & setosa\\\\\n",
       "\\end{tabular}\n"
      ],
      "text/markdown": [
       "\n",
       "Sepal.Length | Sepal.Width | Petal.Length | Petal.Width | Species | \n",
       "|---|---|---|---|---|---|\n",
       "| 4.9    | 3.1    | 1.5    | 0.1    | setosa | \n",
       "| 5.4    | 3.7    | 1.5    | 0.2    | setosa | \n",
       "| 4.8    | 3.4    | 1.6    | 0.2    | setosa | \n",
       "| 4.8    | 3.0    | 1.4    | 0.1    | setosa | \n",
       "| 4.3    | 3.0    | 1.1    | 0.1    | setosa | \n",
       "| 5.8    | 4.0    | 1.2    | 0.2    | setosa | \n",
       "\n",
       "\n"
      ],
      "text/plain": [
       "  Sepal.Length Sepal.Width Petal.Length Petal.Width Species\n",
       "1 4.9          3.1         1.5          0.1         setosa \n",
       "2 5.4          3.7         1.5          0.2         setosa \n",
       "3 4.8          3.4         1.6          0.2         setosa \n",
       "4 4.8          3.0         1.4          0.1         setosa \n",
       "5 4.3          3.0         1.1          0.1         setosa \n",
       "6 5.8          4.0         1.2          0.2         setosa "
      ]
     },
     "metadata": {},
     "output_type": "display_data"
    },
    {
     "data": {
      "text/html": [
       "<table>\n",
       "<thead><tr><th scope=col>Sepal.Length</th><th scope=col>Sepal.Width</th><th scope=col>Petal.Length</th><th scope=col>Petal.Width</th><th scope=col>Species</th></tr></thead>\n",
       "<tbody>\n",
       "\t<tr><td>5.4   </td><td>3.9   </td><td>1.7   </td><td>0.4   </td><td>setosa</td></tr>\n",
       "\t<tr><td>5.8   </td><td>4.0   </td><td>1.2   </td><td>0.2   </td><td>setosa</td></tr>\n",
       "\t<tr><td>5.7   </td><td>4.4   </td><td>1.5   </td><td>0.4   </td><td>setosa</td></tr>\n",
       "\t<tr><td>5.4   </td><td>3.9   </td><td>1.3   </td><td>0.4   </td><td>setosa</td></tr>\n",
       "\t<tr><td>5.2   </td><td>4.1   </td><td>1.5   </td><td>0.1   </td><td>setosa</td></tr>\n",
       "\t<tr><td>5.5   </td><td>4.2   </td><td>1.4   </td><td>0.2   </td><td>setosa</td></tr>\n",
       "</tbody>\n",
       "</table>\n"
      ],
      "text/latex": [
       "\\begin{tabular}{r|lllll}\n",
       " Sepal.Length & Sepal.Width & Petal.Length & Petal.Width & Species\\\\\n",
       "\\hline\n",
       "\t 5.4    & 3.9    & 1.7    & 0.4    & setosa\\\\\n",
       "\t 5.8    & 4.0    & 1.2    & 0.2    & setosa\\\\\n",
       "\t 5.7    & 4.4    & 1.5    & 0.4    & setosa\\\\\n",
       "\t 5.4    & 3.9    & 1.3    & 0.4    & setosa\\\\\n",
       "\t 5.2    & 4.1    & 1.5    & 0.1    & setosa\\\\\n",
       "\t 5.5    & 4.2    & 1.4    & 0.2    & setosa\\\\\n",
       "\\end{tabular}\n"
      ],
      "text/markdown": [
       "\n",
       "Sepal.Length | Sepal.Width | Petal.Length | Petal.Width | Species | \n",
       "|---|---|---|---|---|---|\n",
       "| 5.4    | 3.9    | 1.7    | 0.4    | setosa | \n",
       "| 5.8    | 4.0    | 1.2    | 0.2    | setosa | \n",
       "| 5.7    | 4.4    | 1.5    | 0.4    | setosa | \n",
       "| 5.4    | 3.9    | 1.3    | 0.4    | setosa | \n",
       "| 5.2    | 4.1    | 1.5    | 0.1    | setosa | \n",
       "| 5.5    | 4.2    | 1.4    | 0.2    | setosa | \n",
       "\n",
       "\n"
      ],
      "text/plain": [
       "  Sepal.Length Sepal.Width Petal.Length Petal.Width Species\n",
       "1 5.4          3.9         1.7          0.4         setosa \n",
       "2 5.8          4.0         1.2          0.2         setosa \n",
       "3 5.7          4.4         1.5          0.4         setosa \n",
       "4 5.4          3.9         1.3          0.4         setosa \n",
       "5 5.2          4.1         1.5          0.1         setosa \n",
       "6 5.5          4.2         1.4          0.2         setosa "
      ]
     },
     "metadata": {},
     "output_type": "display_data"
    }
   ],
   "source": [
    "#Randomly select fraction of rows.\n",
    "sample_frac(iris, 0.1, replace = TRUE)\n",
    "sample_frac(iris, 0.1, replace = TRUE)\n",
    "count(iris)\n",
    "\n",
    "#Randomly select size rows.\n",
    "sample_n(iris, 10, replace = TRUE)\n",
    "\n",
    "#Select rows by position.\n",
    "slice(iris, 10:15)\n",
    "\n",
    "#Select and order top n entries (by group if grouped data).\n",
    "top_n(iris, 5, Sepal.Width)"
   ]
  },
  {
   "cell_type": "code",
   "execution_count": 53,
   "metadata": {},
   "outputs": [
    {
     "data": {
      "text/html": [
       "<table>\n",
       "<thead><tr><th scope=col>mpg</th><th scope=col>cyl</th><th scope=col>disp</th><th scope=col>hp</th><th scope=col>drat</th><th scope=col>wt</th><th scope=col>qsec</th><th scope=col>vs</th><th scope=col>am</th><th scope=col>gear</th><th scope=col>carb</th></tr></thead>\n",
       "<tbody>\n",
       "\t<tr><td>10.4 </td><td>8    </td><td>472  </td><td>205  </td><td>2.93 </td><td>5.250</td><td>17.98</td><td>0    </td><td>0    </td><td>3    </td><td>4    </td></tr>\n",
       "\t<tr><td>10.4 </td><td>8    </td><td>460  </td><td>215  </td><td>3.00 </td><td>5.424</td><td>17.82</td><td>0    </td><td>0    </td><td>3    </td><td>4    </td></tr>\n",
       "\t<tr><td>13.3 </td><td>8    </td><td>350  </td><td>245  </td><td>3.73 </td><td>3.840</td><td>15.41</td><td>0    </td><td>0    </td><td>3    </td><td>4    </td></tr>\n",
       "\t<tr><td>14.3 </td><td>8    </td><td>360  </td><td>245  </td><td>3.21 </td><td>3.570</td><td>15.84</td><td>0    </td><td>0    </td><td>3    </td><td>4    </td></tr>\n",
       "\t<tr><td>14.7 </td><td>8    </td><td>440  </td><td>230  </td><td>3.23 </td><td>5.345</td><td>17.42</td><td>0    </td><td>0    </td><td>3    </td><td>4    </td></tr>\n",
       "\t<tr><td>15.0 </td><td>8    </td><td>301  </td><td>335  </td><td>3.54 </td><td>3.570</td><td>14.60</td><td>0    </td><td>1    </td><td>5    </td><td>8    </td></tr>\n",
       "</tbody>\n",
       "</table>\n"
      ],
      "text/latex": [
       "\\begin{tabular}{r|lllllllllll}\n",
       " mpg & cyl & disp & hp & drat & wt & qsec & vs & am & gear & carb\\\\\n",
       "\\hline\n",
       "\t 10.4  & 8     & 472   & 205   & 2.93  & 5.250 & 17.98 & 0     & 0     & 3     & 4    \\\\\n",
       "\t 10.4  & 8     & 460   & 215   & 3.00  & 5.424 & 17.82 & 0     & 0     & 3     & 4    \\\\\n",
       "\t 13.3  & 8     & 350   & 245   & 3.73  & 3.840 & 15.41 & 0     & 0     & 3     & 4    \\\\\n",
       "\t 14.3  & 8     & 360   & 245   & 3.21  & 3.570 & 15.84 & 0     & 0     & 3     & 4    \\\\\n",
       "\t 14.7  & 8     & 440   & 230   & 3.23  & 5.345 & 17.42 & 0     & 0     & 3     & 4    \\\\\n",
       "\t 15.0  & 8     & 301   & 335   & 3.54  & 3.570 & 14.60 & 0     & 1     & 5     & 8    \\\\\n",
       "\\end{tabular}\n"
      ],
      "text/markdown": [
       "\n",
       "mpg | cyl | disp | hp | drat | wt | qsec | vs | am | gear | carb | \n",
       "|---|---|---|---|---|---|\n",
       "| 10.4  | 8     | 472   | 205   | 2.93  | 5.250 | 17.98 | 0     | 0     | 3     | 4     | \n",
       "| 10.4  | 8     | 460   | 215   | 3.00  | 5.424 | 17.82 | 0     | 0     | 3     | 4     | \n",
       "| 13.3  | 8     | 350   | 245   | 3.73  | 3.840 | 15.41 | 0     | 0     | 3     | 4     | \n",
       "| 14.3  | 8     | 360   | 245   | 3.21  | 3.570 | 15.84 | 0     | 0     | 3     | 4     | \n",
       "| 14.7  | 8     | 440   | 230   | 3.23  | 5.345 | 17.42 | 0     | 0     | 3     | 4     | \n",
       "| 15.0  | 8     | 301   | 335   | 3.54  | 3.570 | 14.60 | 0     | 1     | 5     | 8     | \n",
       "\n",
       "\n"
      ],
      "text/plain": [
       "  mpg  cyl disp hp  drat wt    qsec  vs am gear carb\n",
       "1 10.4 8   472  205 2.93 5.250 17.98 0  0  3    4   \n",
       "2 10.4 8   460  215 3.00 5.424 17.82 0  0  3    4   \n",
       "3 13.3 8   350  245 3.73 3.840 15.41 0  0  3    4   \n",
       "4 14.3 8   360  245 3.21 3.570 15.84 0  0  3    4   \n",
       "5 14.7 8   440  230 3.23 5.345 17.42 0  0  3    4   \n",
       "6 15.0 8   301  335 3.54 3.570 14.60 0  1  5    8   "
      ]
     },
     "metadata": {},
     "output_type": "display_data"
    },
    {
     "data": {
      "text/html": [
       "<table>\n",
       "<thead><tr><th scope=col>mpg</th><th scope=col>cyl</th><th scope=col>disp</th><th scope=col>hp</th><th scope=col>drat</th><th scope=col>wt</th><th scope=col>qsec</th><th scope=col>vs</th><th scope=col>am</th><th scope=col>gear</th><th scope=col>carb</th></tr></thead>\n",
       "<tbody>\n",
       "\t<tr><td>33.9 </td><td>4    </td><td> 71.1</td><td> 65  </td><td>4.22 </td><td>1.835</td><td>19.90</td><td>1    </td><td>1    </td><td>4    </td><td>1    </td></tr>\n",
       "\t<tr><td>32.4 </td><td>4    </td><td> 78.7</td><td> 66  </td><td>4.08 </td><td>2.200</td><td>19.47</td><td>1    </td><td>1    </td><td>4    </td><td>1    </td></tr>\n",
       "\t<tr><td>30.4 </td><td>4    </td><td> 75.7</td><td> 52  </td><td>4.93 </td><td>1.615</td><td>18.52</td><td>1    </td><td>1    </td><td>4    </td><td>2    </td></tr>\n",
       "\t<tr><td>30.4 </td><td>4    </td><td> 95.1</td><td>113  </td><td>3.77 </td><td>1.513</td><td>16.90</td><td>1    </td><td>1    </td><td>5    </td><td>2    </td></tr>\n",
       "\t<tr><td>27.3 </td><td>4    </td><td> 79.0</td><td> 66  </td><td>4.08 </td><td>1.935</td><td>18.90</td><td>1    </td><td>1    </td><td>4    </td><td>1    </td></tr>\n",
       "\t<tr><td>26.0 </td><td>4    </td><td>120.3</td><td> 91  </td><td>4.43 </td><td>2.140</td><td>16.70</td><td>0    </td><td>1    </td><td>5    </td><td>2    </td></tr>\n",
       "</tbody>\n",
       "</table>\n"
      ],
      "text/latex": [
       "\\begin{tabular}{r|lllllllllll}\n",
       " mpg & cyl & disp & hp & drat & wt & qsec & vs & am & gear & carb\\\\\n",
       "\\hline\n",
       "\t 33.9  & 4     &  71.1 &  65   & 4.22  & 1.835 & 19.90 & 1     & 1     & 4     & 1    \\\\\n",
       "\t 32.4  & 4     &  78.7 &  66   & 4.08  & 2.200 & 19.47 & 1     & 1     & 4     & 1    \\\\\n",
       "\t 30.4  & 4     &  75.7 &  52   & 4.93  & 1.615 & 18.52 & 1     & 1     & 4     & 2    \\\\\n",
       "\t 30.4  & 4     &  95.1 & 113   & 3.77  & 1.513 & 16.90 & 1     & 1     & 5     & 2    \\\\\n",
       "\t 27.3  & 4     &  79.0 &  66   & 4.08  & 1.935 & 18.90 & 1     & 1     & 4     & 1    \\\\\n",
       "\t 26.0  & 4     & 120.3 &  91   & 4.43  & 2.140 & 16.70 & 0     & 1     & 5     & 2    \\\\\n",
       "\\end{tabular}\n"
      ],
      "text/markdown": [
       "\n",
       "mpg | cyl | disp | hp | drat | wt | qsec | vs | am | gear | carb | \n",
       "|---|---|---|---|---|---|\n",
       "| 33.9  | 4     |  71.1 |  65   | 4.22  | 1.835 | 19.90 | 1     | 1     | 4     | 1     | \n",
       "| 32.4  | 4     |  78.7 |  66   | 4.08  | 2.200 | 19.47 | 1     | 1     | 4     | 1     | \n",
       "| 30.4  | 4     |  75.7 |  52   | 4.93  | 1.615 | 18.52 | 1     | 1     | 4     | 2     | \n",
       "| 30.4  | 4     |  95.1 | 113   | 3.77  | 1.513 | 16.90 | 1     | 1     | 5     | 2     | \n",
       "| 27.3  | 4     |  79.0 |  66   | 4.08  | 1.935 | 18.90 | 1     | 1     | 4     | 1     | \n",
       "| 26.0  | 4     | 120.3 |  91   | 4.43  | 2.140 | 16.70 | 0     | 1     | 5     | 2     | \n",
       "\n",
       "\n"
      ],
      "text/plain": [
       "  mpg  cyl disp  hp  drat wt    qsec  vs am gear carb\n",
       "1 33.9 4    71.1  65 4.22 1.835 19.90 1  1  4    1   \n",
       "2 32.4 4    78.7  66 4.08 2.200 19.47 1  1  4    1   \n",
       "3 30.4 4    75.7  52 4.93 1.615 18.52 1  1  4    2   \n",
       "4 30.4 4    95.1 113 3.77 1.513 16.90 1  1  5    2   \n",
       "5 27.3 4    79.0  66 4.08 1.935 18.90 1  1  4    1   \n",
       "6 26.0 4   120.3  91 4.43 2.140 16.70 0  1  5    2   "
      ]
     },
     "metadata": {},
     "output_type": "display_data"
    }
   ],
   "source": [
    "#Order rows by values of a column or columns (low to high), \n",
    "#use with desc() to order from high to low.\n",
    "head(arrange(mtcars, mpg) )\n",
    "head(arrange(mtcars, desc(mpg)))"
   ]
  },
  {
   "cell_type": "code",
   "execution_count": 58,
   "metadata": {},
   "outputs": [
    {
     "data": {
      "text/html": [
       "<table>\n",
       "<thead><tr><th></th><th scope=col>eruptions</th><th scope=col>waiting</th></tr></thead>\n",
       "<tbody>\n",
       "\t<tr><th scope=row>270</th><td>4.417</td><td>90   </td></tr>\n",
       "\t<tr><th scope=row>271</th><td>1.817</td><td>46   </td></tr>\n",
       "\t<tr><th scope=row>272</th><td>4.467</td><td>74   </td></tr>\n",
       "\t<tr><th scope=row>273</th><td>1.000</td><td> 1   </td></tr>\n",
       "\t<tr><th scope=row>274</th><td>2.000</td><td> 2   </td></tr>\n",
       "\t<tr><th scope=row>275</th><td>3.000</td><td> 3   </td></tr>\n",
       "</tbody>\n",
       "</table>\n"
      ],
      "text/latex": [
       "\\begin{tabular}{r|ll}\n",
       "  & eruptions & waiting\\\\\n",
       "\\hline\n",
       "\t270 & 4.417 & 90   \\\\\n",
       "\t271 & 1.817 & 46   \\\\\n",
       "\t272 & 4.467 & 74   \\\\\n",
       "\t273 & 1.000 &  1   \\\\\n",
       "\t274 & 2.000 &  2   \\\\\n",
       "\t275 & 3.000 &  3   \\\\\n",
       "\\end{tabular}\n"
      ],
      "text/markdown": [
       "\n",
       "| <!--/--> | eruptions | waiting | \n",
       "|---|---|---|---|---|---|\n",
       "| 270 | 4.417 | 90    | \n",
       "| 271 | 1.817 | 46    | \n",
       "| 272 | 4.467 | 74    | \n",
       "| 273 | 1.000 |  1    | \n",
       "| 274 | 2.000 |  2    | \n",
       "| 275 | 3.000 |  3    | \n",
       "\n",
       "\n"
      ],
      "text/plain": [
       "    eruptions waiting\n",
       "270 4.417     90     \n",
       "271 1.817     46     \n",
       "272 4.467     74     \n",
       "273 1.000      1     \n",
       "274 2.000      2     \n",
       "275 3.000      3     "
      ]
     },
     "metadata": {},
     "output_type": "display_data"
    }
   ],
   "source": [
    "# add one or more rows\n",
    "tail(add_row(faithful, eruptions = c(1,2,3), waiting = c(1,2,3)))"
   ]
  },
  {
   "cell_type": "markdown",
   "metadata": {},
   "source": [
    "### Manipulate Variables"
   ]
  },
  {
   "cell_type": "code",
   "execution_count": 92,
   "metadata": {},
   "outputs": [
    {
     "data": {
      "text/html": [
       "<ol class=list-inline>\n",
       "\t<li>5.1</li>\n",
       "\t<li>4.9</li>\n",
       "\t<li>4.7</li>\n",
       "\t<li>4.6</li>\n",
       "\t<li>5</li>\n",
       "\t<li>5.4</li>\n",
       "</ol>\n"
      ],
      "text/latex": [
       "\\begin{enumerate*}\n",
       "\\item 5.1\n",
       "\\item 4.9\n",
       "\\item 4.7\n",
       "\\item 4.6\n",
       "\\item 5\n",
       "\\item 5.4\n",
       "\\end{enumerate*}\n"
      ],
      "text/markdown": [
       "1. 5.1\n",
       "2. 4.9\n",
       "3. 4.7\n",
       "4. 4.6\n",
       "5. 5\n",
       "6. 5.4\n",
       "\n",
       "\n"
      ],
      "text/plain": [
       "[1] 5.1 4.9 4.7 4.6 5.0 5.4"
      ]
     },
     "metadata": {},
     "output_type": "display_data"
    },
    {
     "data": {
      "text/html": [
       "<ol class=list-inline>\n",
       "\t<li>5.1</li>\n",
       "\t<li>4.9</li>\n",
       "\t<li>4.7</li>\n",
       "\t<li>4.6</li>\n",
       "\t<li>5</li>\n",
       "\t<li>5.4</li>\n",
       "</ol>\n"
      ],
      "text/latex": [
       "\\begin{enumerate*}\n",
       "\\item 5.1\n",
       "\\item 4.9\n",
       "\\item 4.7\n",
       "\\item 4.6\n",
       "\\item 5\n",
       "\\item 5.4\n",
       "\\end{enumerate*}\n"
      ],
      "text/markdown": [
       "1. 5.1\n",
       "2. 4.9\n",
       "3. 4.7\n",
       "4. 4.6\n",
       "5. 5\n",
       "6. 5.4\n",
       "\n",
       "\n"
      ],
      "text/plain": [
       "[1] 5.1 4.9 4.7 4.6 5.0 5.4"
      ]
     },
     "metadata": {},
     "output_type": "display_data"
    },
    {
     "data": {
      "text/html": [
       "<table>\n",
       "<thead><tr><th scope=col>Sepal.Length</th><th scope=col>Species</th></tr></thead>\n",
       "<tbody>\n",
       "\t<tr><td>5.1   </td><td>setosa</td></tr>\n",
       "\t<tr><td>4.9   </td><td>setosa</td></tr>\n",
       "\t<tr><td>4.7   </td><td>setosa</td></tr>\n",
       "\t<tr><td>4.6   </td><td>setosa</td></tr>\n",
       "\t<tr><td>5.0   </td><td>setosa</td></tr>\n",
       "\t<tr><td>5.4   </td><td>setosa</td></tr>\n",
       "</tbody>\n",
       "</table>\n"
      ],
      "text/latex": [
       "\\begin{tabular}{r|ll}\n",
       " Sepal.Length & Species\\\\\n",
       "\\hline\n",
       "\t 5.1    & setosa\\\\\n",
       "\t 4.9    & setosa\\\\\n",
       "\t 4.7    & setosa\\\\\n",
       "\t 4.6    & setosa\\\\\n",
       "\t 5.0    & setosa\\\\\n",
       "\t 5.4    & setosa\\\\\n",
       "\\end{tabular}\n"
      ],
      "text/markdown": [
       "\n",
       "Sepal.Length | Species | \n",
       "|---|---|---|---|---|---|\n",
       "| 5.1    | setosa | \n",
       "| 4.9    | setosa | \n",
       "| 4.7    | setosa | \n",
       "| 4.6    | setosa | \n",
       "| 5.0    | setosa | \n",
       "| 5.4    | setosa | \n",
       "\n",
       "\n"
      ],
      "text/plain": [
       "  Sepal.Length Species\n",
       "1 5.1          setosa \n",
       "2 4.9          setosa \n",
       "3 4.7          setosa \n",
       "4 4.6          setosa \n",
       "5 5.0          setosa \n",
       "6 5.4          setosa "
      ]
     },
     "metadata": {},
     "output_type": "display_data"
    },
    {
     "data": {
      "text/html": [
       "<table>\n",
       "<thead><tr><th scope=col>Sepal.Length</th><th scope=col>Sepal.Width</th></tr></thead>\n",
       "<tbody>\n",
       "\t<tr><td>5.1</td><td>3.5</td></tr>\n",
       "\t<tr><td>4.9</td><td>3.0</td></tr>\n",
       "\t<tr><td>4.7</td><td>3.2</td></tr>\n",
       "\t<tr><td>4.6</td><td>3.1</td></tr>\n",
       "\t<tr><td>5.0</td><td>3.6</td></tr>\n",
       "\t<tr><td>5.4</td><td>3.9</td></tr>\n",
       "</tbody>\n",
       "</table>\n"
      ],
      "text/latex": [
       "\\begin{tabular}{r|ll}\n",
       " Sepal.Length & Sepal.Width\\\\\n",
       "\\hline\n",
       "\t 5.1 & 3.5\\\\\n",
       "\t 4.9 & 3.0\\\\\n",
       "\t 4.7 & 3.2\\\\\n",
       "\t 4.6 & 3.1\\\\\n",
       "\t 5.0 & 3.6\\\\\n",
       "\t 5.4 & 3.9\\\\\n",
       "\\end{tabular}\n"
      ],
      "text/markdown": [
       "\n",
       "Sepal.Length | Sepal.Width | \n",
       "|---|---|---|---|---|---|\n",
       "| 5.1 | 3.5 | \n",
       "| 4.9 | 3.0 | \n",
       "| 4.7 | 3.2 | \n",
       "| 4.6 | 3.1 | \n",
       "| 5.0 | 3.6 | \n",
       "| 5.4 | 3.9 | \n",
       "\n",
       "\n"
      ],
      "text/plain": [
       "  Sepal.Length Sepal.Width\n",
       "1 5.1          3.5        \n",
       "2 4.9          3.0        \n",
       "3 4.7          3.2        \n",
       "4 4.6          3.1        \n",
       "5 5.0          3.6        \n",
       "6 5.4          3.9        "
      ]
     },
     "metadata": {},
     "output_type": "display_data"
    },
    {
     "data": {
      "text/html": [
       "<table>\n",
       "<thead><tr><th scope=col>Sepal.Length</th><th scope=col>Sepal.Width</th></tr></thead>\n",
       "<tbody>\n",
       "\t<tr><td>5.1</td><td>3.5</td></tr>\n",
       "\t<tr><td>4.9</td><td>3.0</td></tr>\n",
       "\t<tr><td>4.7</td><td>3.2</td></tr>\n",
       "\t<tr><td>4.6</td><td>3.1</td></tr>\n",
       "\t<tr><td>5.0</td><td>3.6</td></tr>\n",
       "\t<tr><td>5.4</td><td>3.9</td></tr>\n",
       "</tbody>\n",
       "</table>\n"
      ],
      "text/latex": [
       "\\begin{tabular}{r|ll}\n",
       " Sepal.Length & Sepal.Width\\\\\n",
       "\\hline\n",
       "\t 5.1 & 3.5\\\\\n",
       "\t 4.9 & 3.0\\\\\n",
       "\t 4.7 & 3.2\\\\\n",
       "\t 4.6 & 3.1\\\\\n",
       "\t 5.0 & 3.6\\\\\n",
       "\t 5.4 & 3.9\\\\\n",
       "\\end{tabular}\n"
      ],
      "text/markdown": [
       "\n",
       "Sepal.Length | Sepal.Width | \n",
       "|---|---|---|---|---|---|\n",
       "| 5.1 | 3.5 | \n",
       "| 4.9 | 3.0 | \n",
       "| 4.7 | 3.2 | \n",
       "| 4.6 | 3.1 | \n",
       "| 5.0 | 3.6 | \n",
       "| 5.4 | 3.9 | \n",
       "\n",
       "\n"
      ],
      "text/plain": [
       "  Sepal.Length Sepal.Width\n",
       "1 5.1          3.5        \n",
       "2 4.9          3.0        \n",
       "3 4.7          3.2        \n",
       "4 4.6          3.1        \n",
       "5 5.0          3.6        \n",
       "6 5.4          3.9        "
      ]
     },
     "metadata": {},
     "output_type": "display_data"
    }
   ],
   "source": [
    "# Extract column values as a vector.\n",
    "head(pull(iris, Sepal.Length))\n",
    "head(pull(iris, 1))\n",
    "\n",
    "# Extract columns as a table\n",
    "head(select(iris, Sepal.Length, Species))\n",
    "head(select(iris, 1:2))\n",
    "\n",
    "#contains(match) ends_with(match) matches(match)\n",
    "#num_range(prefix, range) one_of(...) starts_with(match)\n",
    "head(select(iris, starts_with(\"Sepal\")))"
   ]
  },
  {
   "cell_type": "code",
   "execution_count": 85,
   "metadata": {},
   "outputs": [
    {
     "data": {
      "text/html": [
       "<table>\n",
       "<thead><tr><th scope=col>mpg</th><th scope=col>cyl</th><th scope=col>disp</th><th scope=col>hp</th><th scope=col>drat</th><th scope=col>wt</th><th scope=col>qsec</th><th scope=col>vs</th><th scope=col>am</th><th scope=col>gear</th><th scope=col>carb</th><th scope=col>gpm</th></tr></thead>\n",
       "<tbody>\n",
       "\t<tr><td>21.0      </td><td>6         </td><td>160       </td><td>110       </td><td>3.90      </td><td>2.620     </td><td>16.46     </td><td>0         </td><td>1         </td><td>4         </td><td>4         </td><td>0.04761905</td></tr>\n",
       "\t<tr><td>21.0      </td><td>6         </td><td>160       </td><td>110       </td><td>3.90      </td><td>2.875     </td><td>17.02     </td><td>0         </td><td>1         </td><td>4         </td><td>4         </td><td>0.04761905</td></tr>\n",
       "\t<tr><td>22.8      </td><td>4         </td><td>108       </td><td> 93       </td><td>3.85      </td><td>2.320     </td><td>18.61     </td><td>1         </td><td>1         </td><td>4         </td><td>1         </td><td>0.04385965</td></tr>\n",
       "\t<tr><td>21.4      </td><td>6         </td><td>258       </td><td>110       </td><td>3.08      </td><td>3.215     </td><td>19.44     </td><td>1         </td><td>0         </td><td>3         </td><td>1         </td><td>0.04672897</td></tr>\n",
       "\t<tr><td>18.7      </td><td>8         </td><td>360       </td><td>175       </td><td>3.15      </td><td>3.440     </td><td>17.02     </td><td>0         </td><td>0         </td><td>3         </td><td>2         </td><td>0.05347594</td></tr>\n",
       "\t<tr><td>18.1      </td><td>6         </td><td>225       </td><td>105       </td><td>2.76      </td><td>3.460     </td><td>20.22     </td><td>1         </td><td>0         </td><td>3         </td><td>1         </td><td>0.05524862</td></tr>\n",
       "</tbody>\n",
       "</table>\n"
      ],
      "text/latex": [
       "\\begin{tabular}{r|llllllllllll}\n",
       " mpg & cyl & disp & hp & drat & wt & qsec & vs & am & gear & carb & gpm\\\\\n",
       "\\hline\n",
       "\t 21.0       & 6          & 160        & 110        & 3.90       & 2.620      & 16.46      & 0          & 1          & 4          & 4          & 0.04761905\\\\\n",
       "\t 21.0       & 6          & 160        & 110        & 3.90       & 2.875      & 17.02      & 0          & 1          & 4          & 4          & 0.04761905\\\\\n",
       "\t 22.8       & 4          & 108        &  93        & 3.85       & 2.320      & 18.61      & 1          & 1          & 4          & 1          & 0.04385965\\\\\n",
       "\t 21.4       & 6          & 258        & 110        & 3.08       & 3.215      & 19.44      & 1          & 0          & 3          & 1          & 0.04672897\\\\\n",
       "\t 18.7       & 8          & 360        & 175        & 3.15       & 3.440      & 17.02      & 0          & 0          & 3          & 2          & 0.05347594\\\\\n",
       "\t 18.1       & 6          & 225        & 105        & 2.76       & 3.460      & 20.22      & 1          & 0          & 3          & 1          & 0.05524862\\\\\n",
       "\\end{tabular}\n"
      ],
      "text/markdown": [
       "\n",
       "mpg | cyl | disp | hp | drat | wt | qsec | vs | am | gear | carb | gpm | \n",
       "|---|---|---|---|---|---|\n",
       "| 21.0       | 6          | 160        | 110        | 3.90       | 2.620      | 16.46      | 0          | 1          | 4          | 4          | 0.04761905 | \n",
       "| 21.0       | 6          | 160        | 110        | 3.90       | 2.875      | 17.02      | 0          | 1          | 4          | 4          | 0.04761905 | \n",
       "| 22.8       | 4          | 108        |  93        | 3.85       | 2.320      | 18.61      | 1          | 1          | 4          | 1          | 0.04385965 | \n",
       "| 21.4       | 6          | 258        | 110        | 3.08       | 3.215      | 19.44      | 1          | 0          | 3          | 1          | 0.04672897 | \n",
       "| 18.7       | 8          | 360        | 175        | 3.15       | 3.440      | 17.02      | 0          | 0          | 3          | 2          | 0.05347594 | \n",
       "| 18.1       | 6          | 225        | 105        | 2.76       | 3.460      | 20.22      | 1          | 0          | 3          | 1          | 0.05524862 | \n",
       "\n",
       "\n"
      ],
      "text/plain": [
       "  mpg  cyl disp hp  drat wt    qsec  vs am gear carb gpm       \n",
       "1 21.0 6   160  110 3.90 2.620 16.46 0  1  4    4    0.04761905\n",
       "2 21.0 6   160  110 3.90 2.875 17.02 0  1  4    4    0.04761905\n",
       "3 22.8 4   108   93 3.85 2.320 18.61 1  1  4    1    0.04385965\n",
       "4 21.4 6   258  110 3.08 3.215 19.44 1  0  3    1    0.04672897\n",
       "5 18.7 8   360  175 3.15 3.440 17.02 0  0  3    2    0.05347594\n",
       "6 18.1 6   225  105 2.76 3.460 20.22 1  0  3    1    0.05524862"
      ]
     },
     "metadata": {},
     "output_type": "display_data"
    },
    {
     "data": {
      "text/html": [
       "<table>\n",
       "<thead><tr><th scope=col>gpm</th></tr></thead>\n",
       "<tbody>\n",
       "\t<tr><td>0.04761905</td></tr>\n",
       "\t<tr><td>0.04761905</td></tr>\n",
       "\t<tr><td>0.04385965</td></tr>\n",
       "\t<tr><td>0.04672897</td></tr>\n",
       "\t<tr><td>0.05347594</td></tr>\n",
       "\t<tr><td>0.05524862</td></tr>\n",
       "</tbody>\n",
       "</table>\n"
      ],
      "text/latex": [
       "\\begin{tabular}{r|l}\n",
       " gpm\\\\\n",
       "\\hline\n",
       "\t 0.04761905\\\\\n",
       "\t 0.04761905\\\\\n",
       "\t 0.04385965\\\\\n",
       "\t 0.04672897\\\\\n",
       "\t 0.05347594\\\\\n",
       "\t 0.05524862\\\\\n",
       "\\end{tabular}\n"
      ],
      "text/markdown": [
       "\n",
       "gpm | \n",
       "|---|---|---|---|---|---|\n",
       "| 0.04761905 | \n",
       "| 0.04761905 | \n",
       "| 0.04385965 | \n",
       "| 0.04672897 | \n",
       "| 0.05347594 | \n",
       "| 0.05524862 | \n",
       "\n",
       "\n"
      ],
      "text/plain": [
       "  gpm       \n",
       "1 0.04761905\n",
       "2 0.04761905\n",
       "3 0.04385965\n",
       "4 0.04672897\n",
       "5 0.05347594\n",
       "6 0.05524862"
      ]
     },
     "metadata": {},
     "output_type": "display_data"
    }
   ],
   "source": [
    "# These apply vectorized functions to columns. \n",
    "# Vectorized funs take vectors as input and return vectors of the same length as output\n",
    "head(mutate(mtcars, gpm = 1/mpg))\n",
    "\n",
    "#Compute new column(s), drop others.\n",
    "head(transmute(mtcars, gpm = 1/mpg))\n",
    "\n",
    "#OFFSETS\n",
    "#dplyr::lag() - Offset elements by 1 \n",
    "#dplyr::lead() - Offset elements by -1\n",
    "#CUMULATIVE AGGREGATES\n",
    "#dplyr::cumall() - Cumulative all() \n",
    "#dplyr::cumany() - Cumulative any()\n",
    "#cummax() - Cumulative max() \n",
    "#dplyr::cummean() - Cumulative mean()\n",
    "#cummin() - Cumulative min() \n",
    "#cumprod() - Cumulative prod() \n",
    "#cumsum() - Cumulative sum()\n",
    "#RANKINGS\n",
    "#dplyr::cume_dist() - Proportion of all values <= \n",
    "#dplyr::dense_rank() - rank with ties = min, no gaps\n",
    "#dplyr::min_rank() - rank with ties = min \n",
    "#dplyr::ntile() - bins into n bins \n",
    "#dplyr::percent_rank() - min_rank scaled to [0,1] \n",
    "#dplyr::row_number() - rank with ties = \"first\"\n",
    "#MATH\n",
    "#+, - , *, /, ^, %/%, %% - arithmetic ops \n",
    "#log(), log2(), log10() - logs\n",
    "#<, <=, >, >=, !=, == - logical comparisons\n",
    "#dplyr::between() - x >= le  & x <= right \n",
    "#dplyr::near() - safe == for floating point numbers\n",
    "#MISC\n",
    "#dplyr::case_when() - multi-case if_else() \n",
    "#dplyr::coalesce() - first non-NA values by element across a set of vectors \n",
    "#dplyr::if_else() - element-wise if() + else() \n",
    "#dplyr::na_if() - replace specific values with NA\n",
    "#pmax() - element-wise max()\n",
    "#pmin() - element-wise min() \n",
    "#dplyr::recode() - Vectorized switch() \n",
    "#dplyr::recode_factor() - Vectorized switch()  for factors"
   ]
  },
  {
   "cell_type": "code",
   "execution_count": 73,
   "metadata": {},
   "outputs": [
    {
     "data": {
      "text/html": [
       "<table>\n",
       "<thead><tr><th scope=col>eruptions</th><th scope=col>waiting</th><th scope=col>eruptions_log</th><th scope=col>waiting_log</th><th scope=col>eruptions_log2</th><th scope=col>waiting_log2</th></tr></thead>\n",
       "<tbody>\n",
       "\t<tr><td>3.600    </td><td>79       </td><td>1.2809338</td><td>4.369448 </td><td>1.8479969</td><td>6.303781 </td></tr>\n",
       "\t<tr><td>1.800    </td><td>54       </td><td>0.5877867</td><td>3.988984 </td><td>0.8479969</td><td>5.754888 </td></tr>\n",
       "\t<tr><td>3.333    </td><td>74       </td><td>1.2038728</td><td>4.304065 </td><td>1.7368213</td><td>6.209453 </td></tr>\n",
       "\t<tr><td>2.283    </td><td>62       </td><td>0.8254904</td><td>4.127134 </td><td>1.1909309</td><td>5.954196 </td></tr>\n",
       "\t<tr><td>4.533    </td><td>85       </td><td>1.5113840</td><td>4.442651 </td><td>2.1804662</td><td>6.409391 </td></tr>\n",
       "\t<tr><td>2.883    </td><td>55       </td><td>1.0588314</td><td>4.007333 </td><td>1.5275708</td><td>5.781360 </td></tr>\n",
       "</tbody>\n",
       "</table>\n"
      ],
      "text/latex": [
       "\\begin{tabular}{r|llllll}\n",
       " eruptions & waiting & eruptions\\_log & waiting\\_log & eruptions\\_log2 & waiting\\_log2\\\\\n",
       "\\hline\n",
       "\t 3.600     & 79        & 1.2809338 & 4.369448  & 1.8479969 & 6.303781 \\\\\n",
       "\t 1.800     & 54        & 0.5877867 & 3.988984  & 0.8479969 & 5.754888 \\\\\n",
       "\t 3.333     & 74        & 1.2038728 & 4.304065  & 1.7368213 & 6.209453 \\\\\n",
       "\t 2.283     & 62        & 0.8254904 & 4.127134  & 1.1909309 & 5.954196 \\\\\n",
       "\t 4.533     & 85        & 1.5113840 & 4.442651  & 2.1804662 & 6.409391 \\\\\n",
       "\t 2.883     & 55        & 1.0588314 & 4.007333  & 1.5275708 & 5.781360 \\\\\n",
       "\\end{tabular}\n"
      ],
      "text/markdown": [
       "\n",
       "eruptions | waiting | eruptions_log | waiting_log | eruptions_log2 | waiting_log2 | \n",
       "|---|---|---|---|---|---|\n",
       "| 3.600     | 79        | 1.2809338 | 4.369448  | 1.8479969 | 6.303781  | \n",
       "| 1.800     | 54        | 0.5877867 | 3.988984  | 0.8479969 | 5.754888  | \n",
       "| 3.333     | 74        | 1.2038728 | 4.304065  | 1.7368213 | 6.209453  | \n",
       "| 2.283     | 62        | 0.8254904 | 4.127134  | 1.1909309 | 5.954196  | \n",
       "| 4.533     | 85        | 1.5113840 | 4.442651  | 2.1804662 | 6.409391  | \n",
       "| 2.883     | 55        | 1.0588314 | 4.007333  | 1.5275708 | 5.781360  | \n",
       "\n",
       "\n"
      ],
      "text/plain": [
       "  eruptions waiting eruptions_log waiting_log eruptions_log2 waiting_log2\n",
       "1 3.600     79      1.2809338     4.369448    1.8479969      6.303781    \n",
       "2 1.800     54      0.5877867     3.988984    0.8479969      5.754888    \n",
       "3 3.333     74      1.2038728     4.304065    1.7368213      6.209453    \n",
       "4 2.283     62      0.8254904     4.127134    1.1909309      5.954196    \n",
       "5 4.533     85      1.5113840     4.442651    2.1804662      6.409391    \n",
       "6 2.883     55      1.0588314     4.007333    1.5275708      5.781360    "
      ]
     },
     "metadata": {},
     "output_type": "display_data"
    },
    {
     "data": {
      "text/html": [
       "<table>\n",
       "<thead><tr><th scope=col>Sepal.Length</th><th scope=col>Sepal.Width</th><th scope=col>Petal.Length</th><th scope=col>Petal.Width</th><th scope=col>Species</th></tr></thead>\n",
       "<tbody>\n",
       "\t<tr><td>1.629241  </td><td>1.252763  </td><td>0.3364722 </td><td>-1.6094379</td><td>setosa    </td></tr>\n",
       "\t<tr><td>1.589235  </td><td>1.098612  </td><td>0.3364722 </td><td>-1.6094379</td><td>setosa    </td></tr>\n",
       "\t<tr><td>1.547563  </td><td>1.163151  </td><td>0.2623643 </td><td>-1.6094379</td><td>setosa    </td></tr>\n",
       "\t<tr><td>1.526056  </td><td>1.131402  </td><td>0.4054651 </td><td>-1.6094379</td><td>setosa    </td></tr>\n",
       "\t<tr><td>1.609438  </td><td>1.280934  </td><td>0.3364722 </td><td>-1.6094379</td><td>setosa    </td></tr>\n",
       "\t<tr><td>1.686399  </td><td>1.360977  </td><td>0.5306283 </td><td>-0.9162907</td><td>setosa    </td></tr>\n",
       "</tbody>\n",
       "</table>\n"
      ],
      "text/latex": [
       "\\begin{tabular}{r|lllll}\n",
       " Sepal.Length & Sepal.Width & Petal.Length & Petal.Width & Species\\\\\n",
       "\\hline\n",
       "\t 1.629241   & 1.252763   & 0.3364722  & -1.6094379 & setosa    \\\\\n",
       "\t 1.589235   & 1.098612   & 0.3364722  & -1.6094379 & setosa    \\\\\n",
       "\t 1.547563   & 1.163151   & 0.2623643  & -1.6094379 & setosa    \\\\\n",
       "\t 1.526056   & 1.131402   & 0.4054651  & -1.6094379 & setosa    \\\\\n",
       "\t 1.609438   & 1.280934   & 0.3364722  & -1.6094379 & setosa    \\\\\n",
       "\t 1.686399   & 1.360977   & 0.5306283  & -0.9162907 & setosa    \\\\\n",
       "\\end{tabular}\n"
      ],
      "text/markdown": [
       "\n",
       "Sepal.Length | Sepal.Width | Petal.Length | Petal.Width | Species | \n",
       "|---|---|---|---|---|---|\n",
       "| 1.629241   | 1.252763   | 0.3364722  | -1.6094379 | setosa     | \n",
       "| 1.589235   | 1.098612   | 0.3364722  | -1.6094379 | setosa     | \n",
       "| 1.547563   | 1.163151   | 0.2623643  | -1.6094379 | setosa     | \n",
       "| 1.526056   | 1.131402   | 0.4054651  | -1.6094379 | setosa     | \n",
       "| 1.609438   | 1.280934   | 0.3364722  | -1.6094379 | setosa     | \n",
       "| 1.686399   | 1.360977   | 0.5306283  | -0.9162907 | setosa     | \n",
       "\n",
       "\n"
      ],
      "text/plain": [
       "  Sepal.Length Sepal.Width Petal.Length Petal.Width Species\n",
       "1 1.629241     1.252763    0.3364722    -1.6094379  setosa \n",
       "2 1.589235     1.098612    0.3364722    -1.6094379  setosa \n",
       "3 1.547563     1.163151    0.2623643    -1.6094379  setosa \n",
       "4 1.526056     1.131402    0.4054651    -1.6094379  setosa \n",
       "5 1.609438     1.280934    0.3364722    -1.6094379  setosa \n",
       "6 1.686399     1.360977    0.5306283    -0.9162907  setosa "
      ]
     },
     "metadata": {},
     "output_type": "display_data"
    },
    {
     "data": {
      "text/html": [
       "<table>\n",
       "<thead><tr><th scope=col>Sepal.Length</th><th scope=col>Sepal.Width</th><th scope=col>Petal.Length</th><th scope=col>Petal.Width</th><th scope=col>Species</th></tr></thead>\n",
       "<tbody>\n",
       "\t<tr><td>1.629241  </td><td>1.252763  </td><td>0.3364722 </td><td>-1.6094379</td><td>setosa    </td></tr>\n",
       "\t<tr><td>1.589235  </td><td>1.098612  </td><td>0.3364722 </td><td>-1.6094379</td><td>setosa    </td></tr>\n",
       "\t<tr><td>1.547563  </td><td>1.163151  </td><td>0.2623643 </td><td>-1.6094379</td><td>setosa    </td></tr>\n",
       "\t<tr><td>1.526056  </td><td>1.131402  </td><td>0.4054651 </td><td>-1.6094379</td><td>setosa    </td></tr>\n",
       "\t<tr><td>1.609438  </td><td>1.280934  </td><td>0.3364722 </td><td>-1.6094379</td><td>setosa    </td></tr>\n",
       "\t<tr><td>1.686399  </td><td>1.360977  </td><td>0.5306283 </td><td>-0.9162907</td><td>setosa    </td></tr>\n",
       "</tbody>\n",
       "</table>\n"
      ],
      "text/latex": [
       "\\begin{tabular}{r|lllll}\n",
       " Sepal.Length & Sepal.Width & Petal.Length & Petal.Width & Species\\\\\n",
       "\\hline\n",
       "\t 1.629241   & 1.252763   & 0.3364722  & -1.6094379 & setosa    \\\\\n",
       "\t 1.589235   & 1.098612   & 0.3364722  & -1.6094379 & setosa    \\\\\n",
       "\t 1.547563   & 1.163151   & 0.2623643  & -1.6094379 & setosa    \\\\\n",
       "\t 1.526056   & 1.131402   & 0.4054651  & -1.6094379 & setosa    \\\\\n",
       "\t 1.609438   & 1.280934   & 0.3364722  & -1.6094379 & setosa    \\\\\n",
       "\t 1.686399   & 1.360977   & 0.5306283  & -0.9162907 & setosa    \\\\\n",
       "\\end{tabular}\n"
      ],
      "text/markdown": [
       "\n",
       "Sepal.Length | Sepal.Width | Petal.Length | Petal.Width | Species | \n",
       "|---|---|---|---|---|---|\n",
       "| 1.629241   | 1.252763   | 0.3364722  | -1.6094379 | setosa     | \n",
       "| 1.589235   | 1.098612   | 0.3364722  | -1.6094379 | setosa     | \n",
       "| 1.547563   | 1.163151   | 0.2623643  | -1.6094379 | setosa     | \n",
       "| 1.526056   | 1.131402   | 0.4054651  | -1.6094379 | setosa     | \n",
       "| 1.609438   | 1.280934   | 0.3364722  | -1.6094379 | setosa     | \n",
       "| 1.686399   | 1.360977   | 0.5306283  | -0.9162907 | setosa     | \n",
       "\n",
       "\n"
      ],
      "text/plain": [
       "  Sepal.Length Sepal.Width Petal.Length Petal.Width Species\n",
       "1 1.629241     1.252763    0.3364722    -1.6094379  setosa \n",
       "2 1.589235     1.098612    0.3364722    -1.6094379  setosa \n",
       "3 1.547563     1.163151    0.2623643    -1.6094379  setosa \n",
       "4 1.526056     1.131402    0.4054651    -1.6094379  setosa \n",
       "5 1.609438     1.280934    0.3364722    -1.6094379  setosa \n",
       "6 1.686399     1.360977    0.5306283    -0.9162907  setosa "
      ]
     },
     "metadata": {},
     "output_type": "display_data"
    }
   ],
   "source": [
    "# Apply funs to every column.\n",
    "head(mutate_all(faithful, funs(log(.), log2(.))) )\n",
    "head(mutate_if(iris, is.numeric, funs(log(.))))\n",
    "\n",
    "# Apply funs to specific columns.\n",
    "head(mutate_at(iris, vars( -Species), funs(log(.))))"
   ]
  },
  {
   "cell_type": "code",
   "execution_count": 82,
   "metadata": {},
   "outputs": [
    {
     "data": {
      "text/html": [
       "<table>\n",
       "<thead><tr><th></th><th scope=col>mpg</th><th scope=col>cyl</th><th scope=col>disp</th><th scope=col>hp</th><th scope=col>drat</th><th scope=col>wt</th><th scope=col>qsec</th><th scope=col>vs</th><th scope=col>am</th><th scope=col>gear</th><th scope=col>carb</th><th scope=col>new</th></tr></thead>\n",
       "<tbody>\n",
       "\t<tr><th scope=row>Mazda RX4</th><td>21.0 </td><td>6    </td><td>160  </td><td>110  </td><td>3.90 </td><td>2.620</td><td>16.46</td><td>0    </td><td>1    </td><td>4    </td><td>4    </td><td>1    </td></tr>\n",
       "\t<tr><th scope=row>Mazda RX4 Wag</th><td>21.0 </td><td>6    </td><td>160  </td><td>110  </td><td>3.90 </td><td>2.875</td><td>17.02</td><td>0    </td><td>1    </td><td>4    </td><td>4    </td><td>2    </td></tr>\n",
       "\t<tr><th scope=row>Datsun 710</th><td>22.8 </td><td>4    </td><td>108  </td><td> 93  </td><td>3.85 </td><td>2.320</td><td>18.61</td><td>1    </td><td>1    </td><td>4    </td><td>1    </td><td>3    </td></tr>\n",
       "\t<tr><th scope=row>Hornet 4 Drive</th><td>21.4 </td><td>6    </td><td>258  </td><td>110  </td><td>3.08 </td><td>3.215</td><td>19.44</td><td>1    </td><td>0    </td><td>3    </td><td>1    </td><td>4    </td></tr>\n",
       "\t<tr><th scope=row>Hornet Sportabout</th><td>18.7 </td><td>8    </td><td>360  </td><td>175  </td><td>3.15 </td><td>3.440</td><td>17.02</td><td>0    </td><td>0    </td><td>3    </td><td>2    </td><td>5    </td></tr>\n",
       "\t<tr><th scope=row>Valiant</th><td>18.1 </td><td>6    </td><td>225  </td><td>105  </td><td>2.76 </td><td>3.460</td><td>20.22</td><td>1    </td><td>0    </td><td>3    </td><td>1    </td><td>6    </td></tr>\n",
       "</tbody>\n",
       "</table>\n"
      ],
      "text/latex": [
       "\\begin{tabular}{r|llllllllllll}\n",
       "  & mpg & cyl & disp & hp & drat & wt & qsec & vs & am & gear & carb & new\\\\\n",
       "\\hline\n",
       "\tMazda RX4 & 21.0  & 6     & 160   & 110   & 3.90  & 2.620 & 16.46 & 0     & 1     & 4     & 4     & 1    \\\\\n",
       "\tMazda RX4 Wag & 21.0  & 6     & 160   & 110   & 3.90  & 2.875 & 17.02 & 0     & 1     & 4     & 4     & 2    \\\\\n",
       "\tDatsun 710 & 22.8  & 4     & 108   &  93   & 3.85  & 2.320 & 18.61 & 1     & 1     & 4     & 1     & 3    \\\\\n",
       "\tHornet 4 Drive & 21.4  & 6     & 258   & 110   & 3.08  & 3.215 & 19.44 & 1     & 0     & 3     & 1     & 4    \\\\\n",
       "\tHornet Sportabout & 18.7  & 8     & 360   & 175   & 3.15  & 3.440 & 17.02 & 0     & 0     & 3     & 2     & 5    \\\\\n",
       "\tValiant & 18.1  & 6     & 225   & 105   & 2.76  & 3.460 & 20.22 & 1     & 0     & 3     & 1     & 6    \\\\\n",
       "\\end{tabular}\n"
      ],
      "text/markdown": [
       "\n",
       "| <!--/--> | mpg | cyl | disp | hp | drat | wt | qsec | vs | am | gear | carb | new | \n",
       "|---|---|---|---|---|---|\n",
       "| Mazda RX4 | 21.0  | 6     | 160   | 110   | 3.90  | 2.620 | 16.46 | 0     | 1     | 4     | 4     | 1     | \n",
       "| Mazda RX4 Wag | 21.0  | 6     | 160   | 110   | 3.90  | 2.875 | 17.02 | 0     | 1     | 4     | 4     | 2     | \n",
       "| Datsun 710 | 22.8  | 4     | 108   |  93   | 3.85  | 2.320 | 18.61 | 1     | 1     | 4     | 1     | 3     | \n",
       "| Hornet 4 Drive | 21.4  | 6     | 258   | 110   | 3.08  | 3.215 | 19.44 | 1     | 0     | 3     | 1     | 4     | \n",
       "| Hornet Sportabout | 18.7  | 8     | 360   | 175   | 3.15  | 3.440 | 17.02 | 0     | 0     | 3     | 2     | 5     | \n",
       "| Valiant | 18.1  | 6     | 225   | 105   | 2.76  | 3.460 | 20.22 | 1     | 0     | 3     | 1     | 6     | \n",
       "\n",
       "\n"
      ],
      "text/plain": [
       "                  mpg  cyl disp hp  drat wt    qsec  vs am gear carb new\n",
       "Mazda RX4         21.0 6   160  110 3.90 2.620 16.46 0  1  4    4    1  \n",
       "Mazda RX4 Wag     21.0 6   160  110 3.90 2.875 17.02 0  1  4    4    2  \n",
       "Datsun 710        22.8 4   108   93 3.85 2.320 18.61 1  1  4    1    3  \n",
       "Hornet 4 Drive    21.4 6   258  110 3.08 3.215 19.44 1  0  3    1    4  \n",
       "Hornet Sportabout 18.7 8   360  175 3.15 3.440 17.02 0  0  3    2    5  \n",
       "Valiant           18.1 6   225  105 2.76 3.460 20.22 1  0  3    1    6  "
      ]
     },
     "metadata": {},
     "output_type": "display_data"
    }
   ],
   "source": [
    "# Add new column(s).\n",
    "library(tibble)\n",
    "head(add_column(mtcars, new = 1:32))"
   ]
  },
  {
   "cell_type": "code",
   "execution_count": 84,
   "metadata": {},
   "outputs": [
    {
     "data": {
      "text/html": [
       "<table>\n",
       "<thead><tr><th scope=col>Length</th><th scope=col>Sepal.Width</th><th scope=col>Petal.Length</th><th scope=col>Petal.Width</th><th scope=col>Species</th></tr></thead>\n",
       "<tbody>\n",
       "\t<tr><td>5.1   </td><td>3.5   </td><td>1.4   </td><td>0.2   </td><td>setosa</td></tr>\n",
       "\t<tr><td>4.9   </td><td>3.0   </td><td>1.4   </td><td>0.2   </td><td>setosa</td></tr>\n",
       "\t<tr><td>4.7   </td><td>3.2   </td><td>1.3   </td><td>0.2   </td><td>setosa</td></tr>\n",
       "\t<tr><td>4.6   </td><td>3.1   </td><td>1.5   </td><td>0.2   </td><td>setosa</td></tr>\n",
       "\t<tr><td>5.0   </td><td>3.6   </td><td>1.4   </td><td>0.2   </td><td>setosa</td></tr>\n",
       "\t<tr><td>5.4   </td><td>3.9   </td><td>1.7   </td><td>0.4   </td><td>setosa</td></tr>\n",
       "</tbody>\n",
       "</table>\n"
      ],
      "text/latex": [
       "\\begin{tabular}{r|lllll}\n",
       " Length & Sepal.Width & Petal.Length & Petal.Width & Species\\\\\n",
       "\\hline\n",
       "\t 5.1    & 3.5    & 1.4    & 0.2    & setosa\\\\\n",
       "\t 4.9    & 3.0    & 1.4    & 0.2    & setosa\\\\\n",
       "\t 4.7    & 3.2    & 1.3    & 0.2    & setosa\\\\\n",
       "\t 4.6    & 3.1    & 1.5    & 0.2    & setosa\\\\\n",
       "\t 5.0    & 3.6    & 1.4    & 0.2    & setosa\\\\\n",
       "\t 5.4    & 3.9    & 1.7    & 0.4    & setosa\\\\\n",
       "\\end{tabular}\n"
      ],
      "text/markdown": [
       "\n",
       "Length | Sepal.Width | Petal.Length | Petal.Width | Species | \n",
       "|---|---|---|---|---|---|\n",
       "| 5.1    | 3.5    | 1.4    | 0.2    | setosa | \n",
       "| 4.9    | 3.0    | 1.4    | 0.2    | setosa | \n",
       "| 4.7    | 3.2    | 1.3    | 0.2    | setosa | \n",
       "| 4.6    | 3.1    | 1.5    | 0.2    | setosa | \n",
       "| 5.0    | 3.6    | 1.4    | 0.2    | setosa | \n",
       "| 5.4    | 3.9    | 1.7    | 0.4    | setosa | \n",
       "\n",
       "\n"
      ],
      "text/plain": [
       "  Length Sepal.Width Petal.Length Petal.Width Species\n",
       "1 5.1    3.5         1.4          0.2         setosa \n",
       "2 4.9    3.0         1.4          0.2         setosa \n",
       "3 4.7    3.2         1.3          0.2         setosa \n",
       "4 4.6    3.1         1.5          0.2         setosa \n",
       "5 5.0    3.6         1.4          0.2         setosa \n",
       "6 5.4    3.9         1.7          0.4         setosa "
      ]
     },
     "metadata": {},
     "output_type": "display_data"
    }
   ],
   "source": [
    "# Rename columns. \n",
    "head(rename(iris, Length = Sepal.Length))"
   ]
  },
  {
   "cell_type": "markdown",
   "metadata": {},
   "source": [
    "### Row Names"
   ]
  },
  {
   "cell_type": "markdown",
   "metadata": {},
   "source": [
    "Tidy data does not use rownames, \n",
    "which store a variable outside of the columns. \n",
    "To work with the rownames, first move them into a column."
   ]
  },
  {
   "cell_type": "code",
   "execution_count": 90,
   "metadata": {},
   "outputs": [
    {
     "data": {
      "text/html": [
       "<table>\n",
       "<thead><tr><th scope=col>idx</th><th scope=col>Sepal.Length</th><th scope=col>Sepal.Width</th><th scope=col>Petal.Length</th><th scope=col>Petal.Width</th><th scope=col>Species</th></tr></thead>\n",
       "<tbody>\n",
       "\t<tr><td>1     </td><td>5.1   </td><td>3.5   </td><td>1.4   </td><td>0.2   </td><td>setosa</td></tr>\n",
       "\t<tr><td>2     </td><td>4.9   </td><td>3.0   </td><td>1.4   </td><td>0.2   </td><td>setosa</td></tr>\n",
       "\t<tr><td>3     </td><td>4.7   </td><td>3.2   </td><td>1.3   </td><td>0.2   </td><td>setosa</td></tr>\n",
       "\t<tr><td>4     </td><td>4.6   </td><td>3.1   </td><td>1.5   </td><td>0.2   </td><td>setosa</td></tr>\n",
       "\t<tr><td>5     </td><td>5.0   </td><td>3.6   </td><td>1.4   </td><td>0.2   </td><td>setosa</td></tr>\n",
       "\t<tr><td>6     </td><td>5.4   </td><td>3.9   </td><td>1.7   </td><td>0.4   </td><td>setosa</td></tr>\n",
       "</tbody>\n",
       "</table>\n"
      ],
      "text/latex": [
       "\\begin{tabular}{r|llllll}\n",
       " idx & Sepal.Length & Sepal.Width & Petal.Length & Petal.Width & Species\\\\\n",
       "\\hline\n",
       "\t 1      & 5.1    & 3.5    & 1.4    & 0.2    & setosa\\\\\n",
       "\t 2      & 4.9    & 3.0    & 1.4    & 0.2    & setosa\\\\\n",
       "\t 3      & 4.7    & 3.2    & 1.3    & 0.2    & setosa\\\\\n",
       "\t 4      & 4.6    & 3.1    & 1.5    & 0.2    & setosa\\\\\n",
       "\t 5      & 5.0    & 3.6    & 1.4    & 0.2    & setosa\\\\\n",
       "\t 6      & 5.4    & 3.9    & 1.7    & 0.4    & setosa\\\\\n",
       "\\end{tabular}\n"
      ],
      "text/markdown": [
       "\n",
       "idx | Sepal.Length | Sepal.Width | Petal.Length | Petal.Width | Species | \n",
       "|---|---|---|---|---|---|\n",
       "| 1      | 5.1    | 3.5    | 1.4    | 0.2    | setosa | \n",
       "| 2      | 4.9    | 3.0    | 1.4    | 0.2    | setosa | \n",
       "| 3      | 4.7    | 3.2    | 1.3    | 0.2    | setosa | \n",
       "| 4      | 4.6    | 3.1    | 1.5    | 0.2    | setosa | \n",
       "| 5      | 5.0    | 3.6    | 1.4    | 0.2    | setosa | \n",
       "| 6      | 5.4    | 3.9    | 1.7    | 0.4    | setosa | \n",
       "\n",
       "\n"
      ],
      "text/plain": [
       "  idx Sepal.Length Sepal.Width Petal.Length Petal.Width Species\n",
       "1 1   5.1          3.5         1.4          0.2         setosa \n",
       "2 2   4.9          3.0         1.4          0.2         setosa \n",
       "3 3   4.7          3.2         1.3          0.2         setosa \n",
       "4 4   4.6          3.1         1.5          0.2         setosa \n",
       "5 5   5.0          3.6         1.4          0.2         setosa \n",
       "6 6   5.4          3.9         1.7          0.4         setosa "
      ]
     },
     "metadata": {},
     "output_type": "display_data"
    }
   ],
   "source": [
    "#Move row names into col.\n",
    "head(rownames_to_column(iris, var = \"idx\"))"
   ]
  },
  {
   "cell_type": "code",
   "execution_count": 91,
   "metadata": {},
   "outputs": [
    {
     "data": {
      "text/html": [
       "<table>\n",
       "<thead><tr><th scope=col>Sepal.Length</th><th scope=col>Sepal.Width</th><th scope=col>Petal.Length</th><th scope=col>Petal.Width</th><th scope=col>Species</th></tr></thead>\n",
       "<tbody>\n",
       "\t<tr><td>5.1   </td><td>3.5   </td><td>1.4   </td><td>0.2   </td><td>setosa</td></tr>\n",
       "\t<tr><td>4.9   </td><td>3.0   </td><td>1.4   </td><td>0.2   </td><td>setosa</td></tr>\n",
       "\t<tr><td>4.7   </td><td>3.2   </td><td>1.3   </td><td>0.2   </td><td>setosa</td></tr>\n",
       "\t<tr><td>4.6   </td><td>3.1   </td><td>1.5   </td><td>0.2   </td><td>setosa</td></tr>\n",
       "\t<tr><td>5.0   </td><td>3.6   </td><td>1.4   </td><td>0.2   </td><td>setosa</td></tr>\n",
       "\t<tr><td>5.4   </td><td>3.9   </td><td>1.7   </td><td>0.4   </td><td>setosa</td></tr>\n",
       "</tbody>\n",
       "</table>\n"
      ],
      "text/latex": [
       "\\begin{tabular}{r|lllll}\n",
       " Sepal.Length & Sepal.Width & Petal.Length & Petal.Width & Species\\\\\n",
       "\\hline\n",
       "\t 5.1    & 3.5    & 1.4    & 0.2    & setosa\\\\\n",
       "\t 4.9    & 3.0    & 1.4    & 0.2    & setosa\\\\\n",
       "\t 4.7    & 3.2    & 1.3    & 0.2    & setosa\\\\\n",
       "\t 4.6    & 3.1    & 1.5    & 0.2    & setosa\\\\\n",
       "\t 5.0    & 3.6    & 1.4    & 0.2    & setosa\\\\\n",
       "\t 5.4    & 3.9    & 1.7    & 0.4    & setosa\\\\\n",
       "\\end{tabular}\n"
      ],
      "text/markdown": [
       "\n",
       "Sepal.Length | Sepal.Width | Petal.Length | Petal.Width | Species | \n",
       "|---|---|---|---|---|---|\n",
       "| 5.1    | 3.5    | 1.4    | 0.2    | setosa | \n",
       "| 4.9    | 3.0    | 1.4    | 0.2    | setosa | \n",
       "| 4.7    | 3.2    | 1.3    | 0.2    | setosa | \n",
       "| 4.6    | 3.1    | 1.5    | 0.2    | setosa | \n",
       "| 5.0    | 3.6    | 1.4    | 0.2    | setosa | \n",
       "| 5.4    | 3.9    | 1.7    | 0.4    | setosa | \n",
       "\n",
       "\n"
      ],
      "text/plain": [
       "  Sepal.Length Sepal.Width Petal.Length Petal.Width Species\n",
       "1 5.1          3.5         1.4          0.2         setosa \n",
       "2 4.9          3.0         1.4          0.2         setosa \n",
       "3 4.7          3.2         1.3          0.2         setosa \n",
       "4 4.6          3.1         1.5          0.2         setosa \n",
       "5 5.0          3.6         1.4          0.2         setosa \n",
       "6 5.4          3.9         1.7          0.4         setosa "
      ]
     },
     "metadata": {},
     "output_type": "display_data"
    }
   ],
   "source": [
    "#Move col in row names.\n",
    "a<-rownames_to_column(iris, var = \"idx\")\n",
    "head(column_to_rownames(a, var = \"idx\"))"
   ]
  },
  {
   "cell_type": "markdown",
   "metadata": {},
   "source": [
    "### Combine Tables"
   ]
  },
  {
   "cell_type": "code",
   "execution_count": 102,
   "metadata": {},
   "outputs": [
    {
     "data": {
      "text/html": [
       "<table>\n",
       "<thead><tr><th scope=col>A</th><th scope=col>B</th><th scope=col>C</th></tr></thead>\n",
       "<tbody>\n",
       "\t<tr><td>a</td><td>t</td><td>1</td></tr>\n",
       "\t<tr><td>b</td><td>u</td><td>2</td></tr>\n",
       "\t<tr><td>c</td><td>v</td><td>3</td></tr>\n",
       "</tbody>\n",
       "</table>\n"
      ],
      "text/latex": [
       "\\begin{tabular}{r|lll}\n",
       " A & B & C\\\\\n",
       "\\hline\n",
       "\t a & t & 1\\\\\n",
       "\t b & u & 2\\\\\n",
       "\t c & v & 3\\\\\n",
       "\\end{tabular}\n"
      ],
      "text/markdown": [
       "\n",
       "A | B | C | \n",
       "|---|---|---|\n",
       "| a | t | 1 | \n",
       "| b | u | 2 | \n",
       "| c | v | 3 | \n",
       "\n",
       "\n"
      ],
      "text/plain": [
       "  A B C\n",
       "1 a t 1\n",
       "2 b u 2\n",
       "3 c v 3"
      ]
     },
     "metadata": {},
     "output_type": "display_data"
    },
    {
     "data": {
      "text/html": [
       "<table>\n",
       "<thead><tr><th scope=col>A</th><th scope=col>B</th><th scope=col>D</th></tr></thead>\n",
       "<tbody>\n",
       "\t<tr><td>a</td><td>t</td><td>3</td></tr>\n",
       "\t<tr><td>b</td><td>u</td><td>2</td></tr>\n",
       "\t<tr><td>d</td><td>w</td><td>1</td></tr>\n",
       "</tbody>\n",
       "</table>\n"
      ],
      "text/latex": [
       "\\begin{tabular}{r|lll}\n",
       " A & B & D\\\\\n",
       "\\hline\n",
       "\t a & t & 3\\\\\n",
       "\t b & u & 2\\\\\n",
       "\t d & w & 1\\\\\n",
       "\\end{tabular}\n"
      ],
      "text/markdown": [
       "\n",
       "A | B | D | \n",
       "|---|---|---|\n",
       "| a | t | 3 | \n",
       "| b | u | 2 | \n",
       "| d | w | 1 | \n",
       "\n",
       "\n"
      ],
      "text/plain": [
       "  A B D\n",
       "1 a t 3\n",
       "2 b u 2\n",
       "3 d w 1"
      ]
     },
     "metadata": {},
     "output_type": "display_data"
    }
   ],
   "source": [
    "x<-data_frame(A=c(\"a\",\"b\",\"c\"),B=c(\"t\",\"u\",\"v\"),C=1:3)\n",
    "y<-data_frame(A=c(\"a\",\"b\",\"d\"),B=c(\"t\",\"u\",\"w\"),D=3:1)\n",
    "x\n",
    "y"
   ]
  },
  {
   "cell_type": "code",
   "execution_count": 103,
   "metadata": {},
   "outputs": [
    {
     "data": {
      "text/html": [
       "<table>\n",
       "<thead><tr><th scope=col>A</th><th scope=col>B</th><th scope=col>C</th><th scope=col>A1</th><th scope=col>B1</th><th scope=col>D</th></tr></thead>\n",
       "<tbody>\n",
       "\t<tr><td>a</td><td>t</td><td>1</td><td>a</td><td>t</td><td>3</td></tr>\n",
       "\t<tr><td>b</td><td>u</td><td>2</td><td>b</td><td>u</td><td>2</td></tr>\n",
       "\t<tr><td>c</td><td>v</td><td>3</td><td>d</td><td>w</td><td>1</td></tr>\n",
       "</tbody>\n",
       "</table>\n"
      ],
      "text/latex": [
       "\\begin{tabular}{r|llllll}\n",
       " A & B & C & A1 & B1 & D\\\\\n",
       "\\hline\n",
       "\t a & t & 1 & a & t & 3\\\\\n",
       "\t b & u & 2 & b & u & 2\\\\\n",
       "\t c & v & 3 & d & w & 1\\\\\n",
       "\\end{tabular}\n"
      ],
      "text/markdown": [
       "\n",
       "A | B | C | A1 | B1 | D | \n",
       "|---|---|---|\n",
       "| a | t | 1 | a | t | 3 | \n",
       "| b | u | 2 | b | u | 2 | \n",
       "| c | v | 3 | d | w | 1 | \n",
       "\n",
       "\n"
      ],
      "text/plain": [
       "  A B C A1 B1 D\n",
       "1 a t 1 a  t  3\n",
       "2 b u 2 b  u  2\n",
       "3 c v 3 d  w  1"
      ]
     },
     "metadata": {},
     "output_type": "display_data"
    }
   ],
   "source": [
    "#paste tables beside each other as they are.\n",
    "bind_cols(x,y)"
   ]
  },
  {
   "cell_type": "code",
   "execution_count": 116,
   "metadata": {},
   "outputs": [
    {
     "name": "stderr",
     "output_type": "stream",
     "text": [
      "Joining, by = c(\"A\", \"B\")\n"
     ]
    },
    {
     "data": {
      "text/html": [
       "<table>\n",
       "<thead><tr><th scope=col>A</th><th scope=col>B</th><th scope=col>C</th><th scope=col>D</th></tr></thead>\n",
       "<tbody>\n",
       "\t<tr><td>a </td><td>t </td><td>1 </td><td> 3</td></tr>\n",
       "\t<tr><td>b </td><td>u </td><td>2 </td><td> 2</td></tr>\n",
       "\t<tr><td>c </td><td>v </td><td>3 </td><td>NA</td></tr>\n",
       "</tbody>\n",
       "</table>\n"
      ],
      "text/latex": [
       "\\begin{tabular}{r|llll}\n",
       " A & B & C & D\\\\\n",
       "\\hline\n",
       "\t a  & t  & 1  &  3\\\\\n",
       "\t b  & u  & 2  &  2\\\\\n",
       "\t c  & v  & 3  & NA\\\\\n",
       "\\end{tabular}\n"
      ],
      "text/markdown": [
       "\n",
       "A | B | C | D | \n",
       "|---|---|---|\n",
       "| a  | t  | 1  |  3 | \n",
       "| b  | u  | 2  |  2 | \n",
       "| c  | v  | 3  | NA | \n",
       "\n",
       "\n"
      ],
      "text/plain": [
       "  A B C D \n",
       "1 a t 1  3\n",
       "2 b u 2  2\n",
       "3 c v 3 NA"
      ]
     },
     "metadata": {},
     "output_type": "display_data"
    },
    {
     "data": {
      "text/html": [
       "<table>\n",
       "<thead><tr><th scope=col>A</th><th scope=col>B.x</th><th scope=col>C</th><th scope=col>B.y</th><th scope=col>D</th></tr></thead>\n",
       "<tbody>\n",
       "\t<tr><td>a </td><td>t </td><td>1 </td><td>t </td><td> 3</td></tr>\n",
       "\t<tr><td>b </td><td>u </td><td>2 </td><td>u </td><td> 2</td></tr>\n",
       "\t<tr><td>c </td><td>v </td><td>3 </td><td>NA</td><td>NA</td></tr>\n",
       "</tbody>\n",
       "</table>\n"
      ],
      "text/latex": [
       "\\begin{tabular}{r|lllll}\n",
       " A & B.x & C & B.y & D\\\\\n",
       "\\hline\n",
       "\t a  & t  & 1  & t  &  3\\\\\n",
       "\t b  & u  & 2  & u  &  2\\\\\n",
       "\t c  & v  & 3  & NA & NA\\\\\n",
       "\\end{tabular}\n"
      ],
      "text/markdown": [
       "\n",
       "A | B.x | C | B.y | D | \n",
       "|---|---|---|\n",
       "| a  | t  | 1  | t  |  3 | \n",
       "| b  | u  | 2  | u  |  2 | \n",
       "| c  | v  | 3  | NA | NA | \n",
       "\n",
       "\n"
      ],
      "text/plain": [
       "  A B.x C B.y D \n",
       "1 a t   1 t    3\n",
       "2 b u   2 u    2\n",
       "3 c v   3 NA  NA"
      ]
     },
     "metadata": {},
     "output_type": "display_data"
    },
    {
     "data": {
      "text/html": [
       "<table>\n",
       "<thead><tr><th scope=col>A.x</th><th scope=col>B.x</th><th scope=col>C</th><th scope=col>A.y</th><th scope=col>B.y</th></tr></thead>\n",
       "<tbody>\n",
       "\t<tr><td>a</td><td>t</td><td>1</td><td>d</td><td>w</td></tr>\n",
       "\t<tr><td>b</td><td>u</td><td>2</td><td>b</td><td>u</td></tr>\n",
       "\t<tr><td>c</td><td>v</td><td>3</td><td>a</td><td>t</td></tr>\n",
       "</tbody>\n",
       "</table>\n"
      ],
      "text/latex": [
       "\\begin{tabular}{r|lllll}\n",
       " A.x & B.x & C & A.y & B.y\\\\\n",
       "\\hline\n",
       "\t a & t & 1 & d & w\\\\\n",
       "\t b & u & 2 & b & u\\\\\n",
       "\t c & v & 3 & a & t\\\\\n",
       "\\end{tabular}\n"
      ],
      "text/markdown": [
       "\n",
       "A.x | B.x | C | A.y | B.y | \n",
       "|---|---|---|\n",
       "| a | t | 1 | d | w | \n",
       "| b | u | 2 | b | u | \n",
       "| c | v | 3 | a | t | \n",
       "\n",
       "\n"
      ],
      "text/plain": [
       "  A.x B.x C A.y B.y\n",
       "1 a   t   1 d   w  \n",
       "2 b   u   2 b   u  \n",
       "3 c   v   3 a   t  "
      ]
     },
     "metadata": {},
     "output_type": "display_data"
    },
    {
     "data": {
      "text/html": [
       "<table>\n",
       "<thead><tr><th scope=col>A1</th><th scope=col>B1</th><th scope=col>C</th><th scope=col>A2</th><th scope=col>B2</th></tr></thead>\n",
       "<tbody>\n",
       "\t<tr><td>a</td><td>t</td><td>1</td><td>d</td><td>w</td></tr>\n",
       "\t<tr><td>b</td><td>u</td><td>2</td><td>b</td><td>u</td></tr>\n",
       "\t<tr><td>c</td><td>v</td><td>3</td><td>a</td><td>t</td></tr>\n",
       "</tbody>\n",
       "</table>\n"
      ],
      "text/latex": [
       "\\begin{tabular}{r|lllll}\n",
       " A1 & B1 & C & A2 & B2\\\\\n",
       "\\hline\n",
       "\t a & t & 1 & d & w\\\\\n",
       "\t b & u & 2 & b & u\\\\\n",
       "\t c & v & 3 & a & t\\\\\n",
       "\\end{tabular}\n"
      ],
      "text/markdown": [
       "\n",
       "A1 | B1 | C | A2 | B2 | \n",
       "|---|---|---|\n",
       "| a | t | 1 | d | w | \n",
       "| b | u | 2 | b | u | \n",
       "| c | v | 3 | a | t | \n",
       "\n",
       "\n"
      ],
      "text/plain": [
       "  A1 B1 C A2 B2\n",
       "1 a  t  1 d  w \n",
       "2 b  u  2 b  u \n",
       "3 c  v  3 a  t "
      ]
     },
     "metadata": {},
     "output_type": "display_data"
    }
   ],
   "source": [
    "#Join matching values.\n",
    "left_join(x, y)\n",
    "left_join(x, y, by = \"A\")\n",
    "left_join(x, y, by = c(\"C\" = \"D\"))\n",
    "left_join(x, y, by = c(\"C\" = \"D\"), suffix = c(\"1\", \"2\"))"
   ]
  },
  {
   "cell_type": "code",
   "execution_count": 110,
   "metadata": {},
   "outputs": [
    {
     "name": "stderr",
     "output_type": "stream",
     "text": [
      "Joining, by = c(\"A\", \"B\")\n"
     ]
    },
    {
     "data": {
      "text/html": [
       "<table>\n",
       "<thead><tr><th scope=col>A</th><th scope=col>B</th><th scope=col>C</th><th scope=col>D</th></tr></thead>\n",
       "<tbody>\n",
       "\t<tr><td>a </td><td>t </td><td> 1</td><td>3 </td></tr>\n",
       "\t<tr><td>b </td><td>u </td><td> 2</td><td>2 </td></tr>\n",
       "\t<tr><td>d </td><td>w </td><td>NA</td><td>1 </td></tr>\n",
       "</tbody>\n",
       "</table>\n"
      ],
      "text/latex": [
       "\\begin{tabular}{r|llll}\n",
       " A & B & C & D\\\\\n",
       "\\hline\n",
       "\t a  & t  &  1 & 3 \\\\\n",
       "\t b  & u  &  2 & 2 \\\\\n",
       "\t d  & w  & NA & 1 \\\\\n",
       "\\end{tabular}\n"
      ],
      "text/markdown": [
       "\n",
       "A | B | C | D | \n",
       "|---|---|---|\n",
       "| a  | t  |  1 | 3  | \n",
       "| b  | u  |  2 | 2  | \n",
       "| d  | w  | NA | 1  | \n",
       "\n",
       "\n"
      ],
      "text/plain": [
       "  A B C  D\n",
       "1 a t  1 3\n",
       "2 b u  2 2\n",
       "3 d w NA 1"
      ]
     },
     "metadata": {},
     "output_type": "display_data"
    }
   ],
   "source": [
    "right_join(x,y)\n"
   ]
  },
  {
   "cell_type": "code",
   "execution_count": 111,
   "metadata": {},
   "outputs": [
    {
     "name": "stderr",
     "output_type": "stream",
     "text": [
      "Joining, by = c(\"A\", \"B\")\n"
     ]
    },
    {
     "data": {
      "text/html": [
       "<table>\n",
       "<thead><tr><th scope=col>A</th><th scope=col>B</th><th scope=col>C</th><th scope=col>D</th></tr></thead>\n",
       "<tbody>\n",
       "\t<tr><td>a</td><td>t</td><td>1</td><td>3</td></tr>\n",
       "\t<tr><td>b</td><td>u</td><td>2</td><td>2</td></tr>\n",
       "</tbody>\n",
       "</table>\n"
      ],
      "text/latex": [
       "\\begin{tabular}{r|llll}\n",
       " A & B & C & D\\\\\n",
       "\\hline\n",
       "\t a & t & 1 & 3\\\\\n",
       "\t b & u & 2 & 2\\\\\n",
       "\\end{tabular}\n"
      ],
      "text/markdown": [
       "\n",
       "A | B | C | D | \n",
       "|---|---|\n",
       "| a | t | 1 | 3 | \n",
       "| b | u | 2 | 2 | \n",
       "\n",
       "\n"
      ],
      "text/plain": [
       "  A B C D\n",
       "1 a t 1 3\n",
       "2 b u 2 2"
      ]
     },
     "metadata": {},
     "output_type": "display_data"
    }
   ],
   "source": [
    "inner_join(x,y)"
   ]
  },
  {
   "cell_type": "code",
   "execution_count": 112,
   "metadata": {},
   "outputs": [
    {
     "name": "stderr",
     "output_type": "stream",
     "text": [
      "Joining, by = c(\"A\", \"B\")\n"
     ]
    },
    {
     "data": {
      "text/html": [
       "<table>\n",
       "<thead><tr><th scope=col>A</th><th scope=col>B</th><th scope=col>C</th><th scope=col>D</th></tr></thead>\n",
       "<tbody>\n",
       "\t<tr><td>a </td><td>t </td><td> 1</td><td> 3</td></tr>\n",
       "\t<tr><td>b </td><td>u </td><td> 2</td><td> 2</td></tr>\n",
       "\t<tr><td>c </td><td>v </td><td> 3</td><td>NA</td></tr>\n",
       "\t<tr><td>d </td><td>w </td><td>NA</td><td> 1</td></tr>\n",
       "</tbody>\n",
       "</table>\n"
      ],
      "text/latex": [
       "\\begin{tabular}{r|llll}\n",
       " A & B & C & D\\\\\n",
       "\\hline\n",
       "\t a  & t  &  1 &  3\\\\\n",
       "\t b  & u  &  2 &  2\\\\\n",
       "\t c  & v  &  3 & NA\\\\\n",
       "\t d  & w  & NA &  1\\\\\n",
       "\\end{tabular}\n"
      ],
      "text/markdown": [
       "\n",
       "A | B | C | D | \n",
       "|---|---|---|---|\n",
       "| a  | t  |  1 |  3 | \n",
       "| b  | u  |  2 |  2 | \n",
       "| c  | v  |  3 | NA | \n",
       "| d  | w  | NA |  1 | \n",
       "\n",
       "\n"
      ],
      "text/plain": [
       "  A B C  D \n",
       "1 a t  1  3\n",
       "2 b u  2  2\n",
       "3 c v  3 NA\n",
       "4 d w NA  1"
      ]
     },
     "metadata": {},
     "output_type": "display_data"
    }
   ],
   "source": [
    "full_join(x,y)"
   ]
  },
  {
   "cell_type": "code",
   "execution_count": 117,
   "metadata": {},
   "outputs": [
    {
     "name": "stderr",
     "output_type": "stream",
     "text": [
      "Joining, by = c(\"A\", \"B\")\n"
     ]
    },
    {
     "data": {
      "text/html": [
       "<table>\n",
       "<thead><tr><th scope=col>A</th><th scope=col>B</th><th scope=col>C</th></tr></thead>\n",
       "<tbody>\n",
       "\t<tr><td>a</td><td>t</td><td>1</td></tr>\n",
       "\t<tr><td>b</td><td>u</td><td>2</td></tr>\n",
       "</tbody>\n",
       "</table>\n"
      ],
      "text/latex": [
       "\\begin{tabular}{r|lll}\n",
       " A & B & C\\\\\n",
       "\\hline\n",
       "\t a & t & 1\\\\\n",
       "\t b & u & 2\\\\\n",
       "\\end{tabular}\n"
      ],
      "text/markdown": [
       "\n",
       "A | B | C | \n",
       "|---|---|\n",
       "| a | t | 1 | \n",
       "| b | u | 2 | \n",
       "\n",
       "\n"
      ],
      "text/plain": [
       "  A B C\n",
       "1 a t 1\n",
       "2 b u 2"
      ]
     },
     "metadata": {},
     "output_type": "display_data"
    }
   ],
   "source": [
    "#Return rows of x that have a match in y.\n",
    "semi_join(x,y)"
   ]
  },
  {
   "cell_type": "code",
   "execution_count": 118,
   "metadata": {},
   "outputs": [
    {
     "name": "stderr",
     "output_type": "stream",
     "text": [
      "Joining, by = c(\"A\", \"B\")\n"
     ]
    },
    {
     "data": {
      "text/html": [
       "<table>\n",
       "<thead><tr><th scope=col>A</th><th scope=col>B</th><th scope=col>C</th></tr></thead>\n",
       "<tbody>\n",
       "\t<tr><td>c</td><td>v</td><td>3</td></tr>\n",
       "</tbody>\n",
       "</table>\n"
      ],
      "text/latex": [
       "\\begin{tabular}{r|lll}\n",
       " A & B & C\\\\\n",
       "\\hline\n",
       "\t c & v & 3\\\\\n",
       "\\end{tabular}\n"
      ],
      "text/markdown": [
       "\n",
       "A | B | C | \n",
       "|---|\n",
       "| c | v | 3 | \n",
       "\n",
       "\n"
      ],
      "text/plain": [
       "  A B C\n",
       "1 c v 3"
      ]
     },
     "metadata": {},
     "output_type": "display_data"
    }
   ],
   "source": [
    "#Return rows of x that do not have a match in y.\n",
    "anti_join(x,y)"
   ]
  },
  {
   "cell_type": "code",
   "execution_count": 126,
   "metadata": {},
   "outputs": [
    {
     "data": {
      "text/html": [
       "<table>\n",
       "<thead><tr><th scope=col>A</th><th scope=col>B</th><th scope=col>C</th></tr></thead>\n",
       "<tbody>\n",
       "\t<tr><td>a</td><td>t</td><td>1</td></tr>\n",
       "\t<tr><td>b</td><td>u</td><td>2</td></tr>\n",
       "\t<tr><td>c</td><td>v</td><td>3</td></tr>\n",
       "</tbody>\n",
       "</table>\n"
      ],
      "text/latex": [
       "\\begin{tabular}{r|lll}\n",
       " A & B & C\\\\\n",
       "\\hline\n",
       "\t a & t & 1\\\\\n",
       "\t b & u & 2\\\\\n",
       "\t c & v & 3\\\\\n",
       "\\end{tabular}\n"
      ],
      "text/markdown": [
       "\n",
       "A | B | C | \n",
       "|---|---|---|\n",
       "| a | t | 1 | \n",
       "| b | u | 2 | \n",
       "| c | v | 3 | \n",
       "\n",
       "\n"
      ],
      "text/plain": [
       "  A B C\n",
       "1 a t 1\n",
       "2 b u 2\n",
       "3 c v 3"
      ]
     },
     "metadata": {},
     "output_type": "display_data"
    },
    {
     "data": {
      "text/html": [
       "<table>\n",
       "<thead><tr><th scope=col>A</th><th scope=col>B</th><th scope=col>C</th></tr></thead>\n",
       "<tbody>\n",
       "\t<tr><td>c</td><td>v</td><td>3</td></tr>\n",
       "\t<tr><td>d</td><td>w</td><td>4</td></tr>\n",
       "</tbody>\n",
       "</table>\n"
      ],
      "text/latex": [
       "\\begin{tabular}{r|lll}\n",
       " A & B & C\\\\\n",
       "\\hline\n",
       "\t c & v & 3\\\\\n",
       "\t d & w & 4\\\\\n",
       "\\end{tabular}\n"
      ],
      "text/markdown": [
       "\n",
       "A | B | C | \n",
       "|---|---|\n",
       "| c | v | 3 | \n",
       "| d | w | 4 | \n",
       "\n",
       "\n"
      ],
      "text/plain": [
       "  A B C\n",
       "1 c v 3\n",
       "2 d w 4"
      ]
     },
     "metadata": {},
     "output_type": "display_data"
    }
   ],
   "source": [
    "x<-data_frame(A=c(\"a\",\"b\",\"c\"),B=c(\"t\",\"u\",\"v\"),C=1:3)\n",
    "y<-data_frame(A=c(\"c\",\"d\"),B=c(\"v\",\"w\"),C=3:4)\n",
    "x\n",
    "y"
   ]
  },
  {
   "cell_type": "code",
   "execution_count": 127,
   "metadata": {},
   "outputs": [
    {
     "data": {
      "text/html": [
       "<table>\n",
       "<thead><tr><th scope=col>DF</th><th scope=col>A</th><th scope=col>B</th><th scope=col>C</th></tr></thead>\n",
       "<tbody>\n",
       "\t<tr><td>1</td><td>a</td><td>t</td><td>1</td></tr>\n",
       "\t<tr><td>1</td><td>b</td><td>u</td><td>2</td></tr>\n",
       "\t<tr><td>1</td><td>c</td><td>v</td><td>3</td></tr>\n",
       "\t<tr><td>2</td><td>c</td><td>v</td><td>3</td></tr>\n",
       "\t<tr><td>2</td><td>d</td><td>w</td><td>4</td></tr>\n",
       "</tbody>\n",
       "</table>\n"
      ],
      "text/latex": [
       "\\begin{tabular}{r|llll}\n",
       " DF & A & B & C\\\\\n",
       "\\hline\n",
       "\t 1 & a & t & 1\\\\\n",
       "\t 1 & b & u & 2\\\\\n",
       "\t 1 & c & v & 3\\\\\n",
       "\t 2 & c & v & 3\\\\\n",
       "\t 2 & d & w & 4\\\\\n",
       "\\end{tabular}\n"
      ],
      "text/markdown": [
       "\n",
       "DF | A | B | C | \n",
       "|---|---|---|---|---|\n",
       "| 1 | a | t | 1 | \n",
       "| 1 | b | u | 2 | \n",
       "| 1 | c | v | 3 | \n",
       "| 2 | c | v | 3 | \n",
       "| 2 | d | w | 4 | \n",
       "\n",
       "\n"
      ],
      "text/plain": [
       "  DF A B C\n",
       "1 1  a t 1\n",
       "2 1  b u 2\n",
       "3 1  c v 3\n",
       "4 2  c v 3\n",
       "5 2  d w 4"
      ]
     },
     "metadata": {},
     "output_type": "display_data"
    }
   ],
   "source": [
    "#Returns tables one on top of the other as a single table. \n",
    "bind_rows(x,y,.id=\"DF\")"
   ]
  },
  {
   "cell_type": "code",
   "execution_count": 128,
   "metadata": {},
   "outputs": [
    {
     "data": {
      "text/html": [
       "<table>\n",
       "<thead><tr><th scope=col>A</th><th scope=col>B</th><th scope=col>C</th></tr></thead>\n",
       "<tbody>\n",
       "\t<tr><td>c</td><td>v</td><td>3</td></tr>\n",
       "</tbody>\n",
       "</table>\n"
      ],
      "text/latex": [
       "\\begin{tabular}{r|lll}\n",
       " A & B & C\\\\\n",
       "\\hline\n",
       "\t c & v & 3\\\\\n",
       "\\end{tabular}\n"
      ],
      "text/markdown": [
       "\n",
       "A | B | C | \n",
       "|---|\n",
       "| c | v | 3 | \n",
       "\n",
       "\n"
      ],
      "text/plain": [
       "  A B C\n",
       "1 c v 3"
      ]
     },
     "metadata": {},
     "output_type": "display_data"
    }
   ],
   "source": [
    "#Rows that appear in both x and y.\n",
    "intersect(x, y)"
   ]
  },
  {
   "cell_type": "code",
   "execution_count": 130,
   "metadata": {},
   "outputs": [
    {
     "data": {
      "text/html": [
       "<table>\n",
       "<thead><tr><th scope=col>A</th><th scope=col>B</th><th scope=col>C</th></tr></thead>\n",
       "<tbody>\n",
       "\t<tr><td>a</td><td>t</td><td>1</td></tr>\n",
       "\t<tr><td>b</td><td>u</td><td>2</td></tr>\n",
       "</tbody>\n",
       "</table>\n"
      ],
      "text/latex": [
       "\\begin{tabular}{r|lll}\n",
       " A & B & C\\\\\n",
       "\\hline\n",
       "\t a & t & 1\\\\\n",
       "\t b & u & 2\\\\\n",
       "\\end{tabular}\n"
      ],
      "text/markdown": [
       "\n",
       "A | B | C | \n",
       "|---|---|\n",
       "| a | t | 1 | \n",
       "| b | u | 2 | \n",
       "\n",
       "\n"
      ],
      "text/plain": [
       "  A B C\n",
       "1 a t 1\n",
       "2 b u 2"
      ]
     },
     "metadata": {},
     "output_type": "display_data"
    }
   ],
   "source": [
    "#Rows that appear in x but not y.\n",
    "setdiff(x, y)"
   ]
  },
  {
   "cell_type": "code",
   "execution_count": 133,
   "metadata": {},
   "outputs": [
    {
     "data": {
      "text/html": [
       "<table>\n",
       "<thead><tr><th scope=col>A</th><th scope=col>B</th><th scope=col>C</th></tr></thead>\n",
       "<tbody>\n",
       "\t<tr><td>d</td><td>w</td><td>4</td></tr>\n",
       "\t<tr><td>c</td><td>v</td><td>3</td></tr>\n",
       "\t<tr><td>b</td><td>u</td><td>2</td></tr>\n",
       "\t<tr><td>a</td><td>t</td><td>1</td></tr>\n",
       "</tbody>\n",
       "</table>\n"
      ],
      "text/latex": [
       "\\begin{tabular}{r|lll}\n",
       " A & B & C\\\\\n",
       "\\hline\n",
       "\t d & w & 4\\\\\n",
       "\t c & v & 3\\\\\n",
       "\t b & u & 2\\\\\n",
       "\t a & t & 1\\\\\n",
       "\\end{tabular}\n"
      ],
      "text/markdown": [
       "\n",
       "A | B | C | \n",
       "|---|---|---|---|\n",
       "| d | w | 4 | \n",
       "| c | v | 3 | \n",
       "| b | u | 2 | \n",
       "| a | t | 1 | \n",
       "\n",
       "\n"
      ],
      "text/plain": [
       "  A B C\n",
       "1 d w 4\n",
       "2 c v 3\n",
       "3 b u 2\n",
       "4 a t 1"
      ]
     },
     "metadata": {},
     "output_type": "display_data"
    },
    {
     "data": {
      "text/html": [
       "<table>\n",
       "<thead><tr><th scope=col>A</th><th scope=col>B</th><th scope=col>C</th></tr></thead>\n",
       "<tbody>\n",
       "\t<tr><td>a</td><td>t</td><td>1</td></tr>\n",
       "\t<tr><td>b</td><td>u</td><td>2</td></tr>\n",
       "\t<tr><td>c</td><td>v</td><td>3</td></tr>\n",
       "\t<tr><td>d</td><td>w</td><td>4</td></tr>\n",
       "</tbody>\n",
       "</table>\n"
      ],
      "text/latex": [
       "\\begin{tabular}{r|lll}\n",
       " A & B & C\\\\\n",
       "\\hline\n",
       "\t a & t & 1\\\\\n",
       "\t b & u & 2\\\\\n",
       "\t c & v & 3\\\\\n",
       "\t d & w & 4\\\\\n",
       "\\end{tabular}\n"
      ],
      "text/markdown": [
       "\n",
       "A | B | C | \n",
       "|---|---|---|---|\n",
       "| a | t | 1 | \n",
       "| b | u | 2 | \n",
       "| c | v | 3 | \n",
       "| d | w | 4 | \n",
       "\n",
       "\n"
      ],
      "text/plain": [
       "  A B C\n",
       "1 a t 1\n",
       "2 b u 2\n",
       "3 c v 3\n",
       "4 d w 4"
      ]
     },
     "metadata": {},
     "output_type": "display_data"
    }
   ],
   "source": [
    "#Rows that appear in x or y.\n",
    "union(x, y)\n",
    "distinct(union_all(x, y))"
   ]
  }
 ],
 "metadata": {
  "kernelspec": {
   "display_name": "R",
   "language": "R",
   "name": "ir"
  },
  "language_info": {
   "codemirror_mode": "r",
   "file_extension": ".r",
   "mimetype": "text/x-r-source",
   "name": "R",
   "pygments_lexer": "r",
   "version": "3.5.1"
  }
 },
 "nbformat": 4,
 "nbformat_minor": 2
}
